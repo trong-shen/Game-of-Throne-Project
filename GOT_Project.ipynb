{
  "nbformat": 4,
  "nbformat_minor": 0,
  "metadata": {
    "colab": {
      "name": "GOT Project.ipynb",
      "provenance": [],
      "include_colab_link": true
    },
    "kernelspec": {
      "name": "python3",
      "display_name": "Python 3"
    }
  },
  "cells": [
    {
      "cell_type": "markdown",
      "metadata": {
        "id": "view-in-github",
        "colab_type": "text"
      },
      "source": [
        "<a href=\"https://colab.research.google.com/github/trong-shen/Game-of-Throne-Project/blob/master/GOT_Project.ipynb\" target=\"_parent\"><img src=\"https://colab.research.google.com/assets/colab-badge.svg\" alt=\"Open In Colab\"/></a>"
      ]
    },
    {
      "cell_type": "markdown",
      "metadata": {
        "id": "Kvbsdq0-guNm",
        "colab_type": "text"
      },
      "source": [
        "Load the CSV file from Github"
      ]
    },
    {
      "cell_type": "code",
      "metadata": {
        "id": "Xt3EaJ_AgV2I",
        "colab_type": "code",
        "outputId": "c615a708-748d-4bb2-833c-2e25a61d3301",
        "colab": {
          "base_uri": "https://localhost:8080/",
          "height": 1000
        }
      },
      "source": [
        "import pandas as pd\n",
        "import numpy as np\n",
        "import string\n",
        "!pip install nltk\n",
        "import nltk\n",
        "nltk.download('all')\n",
        "\n",
        "\n",
        "GOT= pd.read_csv('https://raw.githubusercontent.com/trong-shen/Game-of-Throne-Project/master/Game_of_Thrones_Script_clean.csv')\n",
        "char_info=pd.read_csv('https://raw.githubusercontent.com/trong-shen/Game-of-Throne-Project/master/got_table.csv')\n",
        "print(len(GOT))\n",
        "\n",
        "#Extract only the house data from char_info\n",
        "House=char_info[['name','house']]\n",
        "\n",
        "#Created a function to apply globally to the data frame\n",
        "def return_house(name):\n",
        "  house_dict=dict(zip(House.name,House.house))\n",
        "  try: \n",
        "    house=house_dict[name]\n",
        "    return(house)\n",
        "  except KeyError:\n",
        "    return(float(\"Nan\"))\n",
        "\n",
        "# Apply the house dict function to the whole GOT dataframe\n",
        "GOT['House']=GOT['Name'].apply(lambda x:return_house(x))\n"
      ],
      "execution_count": 1,
      "outputs": [
        {
          "output_type": "stream",
          "text": [
            "Requirement already satisfied: nltk in /usr/local/lib/python3.6/dist-packages (3.2.5)\n",
            "Requirement already satisfied: six in /usr/local/lib/python3.6/dist-packages (from nltk) (1.12.0)\n",
            "[nltk_data] Downloading collection 'all'\n",
            "[nltk_data]    | \n",
            "[nltk_data]    | Downloading package abc to /root/nltk_data...\n",
            "[nltk_data]    |   Unzipping corpora/abc.zip.\n",
            "[nltk_data]    | Downloading package alpino to /root/nltk_data...\n",
            "[nltk_data]    |   Unzipping corpora/alpino.zip.\n",
            "[nltk_data]    | Downloading package biocreative_ppi to\n",
            "[nltk_data]    |     /root/nltk_data...\n",
            "[nltk_data]    |   Unzipping corpora/biocreative_ppi.zip.\n",
            "[nltk_data]    | Downloading package brown to /root/nltk_data...\n",
            "[nltk_data]    |   Unzipping corpora/brown.zip.\n",
            "[nltk_data]    | Downloading package brown_tei to /root/nltk_data...\n",
            "[nltk_data]    |   Unzipping corpora/brown_tei.zip.\n",
            "[nltk_data]    | Downloading package cess_cat to /root/nltk_data...\n",
            "[nltk_data]    |   Unzipping corpora/cess_cat.zip.\n",
            "[nltk_data]    | Downloading package cess_esp to /root/nltk_data...\n",
            "[nltk_data]    |   Unzipping corpora/cess_esp.zip.\n",
            "[nltk_data]    | Downloading package chat80 to /root/nltk_data...\n",
            "[nltk_data]    |   Unzipping corpora/chat80.zip.\n",
            "[nltk_data]    | Downloading package city_database to\n",
            "[nltk_data]    |     /root/nltk_data...\n",
            "[nltk_data]    |   Unzipping corpora/city_database.zip.\n",
            "[nltk_data]    | Downloading package cmudict to /root/nltk_data...\n",
            "[nltk_data]    |   Unzipping corpora/cmudict.zip.\n",
            "[nltk_data]    | Downloading package comparative_sentences to\n",
            "[nltk_data]    |     /root/nltk_data...\n",
            "[nltk_data]    |   Unzipping corpora/comparative_sentences.zip.\n",
            "[nltk_data]    | Downloading package comtrans to /root/nltk_data...\n",
            "[nltk_data]    | Downloading package conll2000 to /root/nltk_data...\n",
            "[nltk_data]    |   Unzipping corpora/conll2000.zip.\n",
            "[nltk_data]    | Downloading package conll2002 to /root/nltk_data...\n",
            "[nltk_data]    |   Unzipping corpora/conll2002.zip.\n",
            "[nltk_data]    | Downloading package conll2007 to /root/nltk_data...\n",
            "[nltk_data]    | Downloading package crubadan to /root/nltk_data...\n",
            "[nltk_data]    |   Unzipping corpora/crubadan.zip.\n",
            "[nltk_data]    | Downloading package dependency_treebank to\n",
            "[nltk_data]    |     /root/nltk_data...\n",
            "[nltk_data]    |   Unzipping corpora/dependency_treebank.zip.\n",
            "[nltk_data]    | Downloading package dolch to /root/nltk_data...\n",
            "[nltk_data]    |   Unzipping corpora/dolch.zip.\n",
            "[nltk_data]    | Downloading package europarl_raw to\n",
            "[nltk_data]    |     /root/nltk_data...\n",
            "[nltk_data]    |   Unzipping corpora/europarl_raw.zip.\n",
            "[nltk_data]    | Downloading package floresta to /root/nltk_data...\n",
            "[nltk_data]    |   Unzipping corpora/floresta.zip.\n",
            "[nltk_data]    | Downloading package framenet_v15 to\n",
            "[nltk_data]    |     /root/nltk_data...\n",
            "[nltk_data]    |   Unzipping corpora/framenet_v15.zip.\n",
            "[nltk_data]    | Downloading package framenet_v17 to\n",
            "[nltk_data]    |     /root/nltk_data...\n",
            "[nltk_data]    |   Unzipping corpora/framenet_v17.zip.\n",
            "[nltk_data]    | Downloading package gazetteers to /root/nltk_data...\n",
            "[nltk_data]    |   Unzipping corpora/gazetteers.zip.\n",
            "[nltk_data]    | Downloading package genesis to /root/nltk_data...\n",
            "[nltk_data]    |   Unzipping corpora/genesis.zip.\n",
            "[nltk_data]    | Downloading package gutenberg to /root/nltk_data...\n",
            "[nltk_data]    |   Unzipping corpora/gutenberg.zip.\n",
            "[nltk_data]    | Downloading package ieer to /root/nltk_data...\n",
            "[nltk_data]    |   Unzipping corpora/ieer.zip.\n",
            "[nltk_data]    | Downloading package inaugural to /root/nltk_data...\n",
            "[nltk_data]    |   Unzipping corpora/inaugural.zip.\n",
            "[nltk_data]    | Downloading package indian to /root/nltk_data...\n",
            "[nltk_data]    |   Unzipping corpora/indian.zip.\n",
            "[nltk_data]    | Downloading package jeita to /root/nltk_data...\n",
            "[nltk_data]    | Downloading package kimmo to /root/nltk_data...\n",
            "[nltk_data]    |   Unzipping corpora/kimmo.zip.\n",
            "[nltk_data]    | Downloading package knbc to /root/nltk_data...\n",
            "[nltk_data]    | Downloading package lin_thesaurus to\n",
            "[nltk_data]    |     /root/nltk_data...\n",
            "[nltk_data]    |   Unzipping corpora/lin_thesaurus.zip.\n",
            "[nltk_data]    | Downloading package mac_morpho to /root/nltk_data...\n",
            "[nltk_data]    |   Unzipping corpora/mac_morpho.zip.\n",
            "[nltk_data]    | Downloading package machado to /root/nltk_data...\n",
            "[nltk_data]    | Downloading package masc_tagged to /root/nltk_data...\n",
            "[nltk_data]    | Downloading package moses_sample to\n",
            "[nltk_data]    |     /root/nltk_data...\n",
            "[nltk_data]    |   Unzipping models/moses_sample.zip.\n",
            "[nltk_data]    | Downloading package movie_reviews to\n",
            "[nltk_data]    |     /root/nltk_data...\n",
            "[nltk_data]    |   Unzipping corpora/movie_reviews.zip.\n",
            "[nltk_data]    | Downloading package names to /root/nltk_data...\n",
            "[nltk_data]    |   Unzipping corpora/names.zip.\n",
            "[nltk_data]    | Downloading package nombank.1.0 to /root/nltk_data...\n",
            "[nltk_data]    | Downloading package nps_chat to /root/nltk_data...\n",
            "[nltk_data]    |   Unzipping corpora/nps_chat.zip.\n",
            "[nltk_data]    | Downloading package omw to /root/nltk_data...\n",
            "[nltk_data]    |   Unzipping corpora/omw.zip.\n",
            "[nltk_data]    | Downloading package opinion_lexicon to\n",
            "[nltk_data]    |     /root/nltk_data...\n",
            "[nltk_data]    |   Unzipping corpora/opinion_lexicon.zip.\n",
            "[nltk_data]    | Downloading package paradigms to /root/nltk_data...\n",
            "[nltk_data]    |   Unzipping corpora/paradigms.zip.\n",
            "[nltk_data]    | Downloading package pil to /root/nltk_data...\n",
            "[nltk_data]    |   Unzipping corpora/pil.zip.\n",
            "[nltk_data]    | Downloading package pl196x to /root/nltk_data...\n",
            "[nltk_data]    |   Unzipping corpora/pl196x.zip.\n",
            "[nltk_data]    | Downloading package ppattach to /root/nltk_data...\n",
            "[nltk_data]    |   Unzipping corpora/ppattach.zip.\n",
            "[nltk_data]    | Downloading package problem_reports to\n",
            "[nltk_data]    |     /root/nltk_data...\n",
            "[nltk_data]    |   Unzipping corpora/problem_reports.zip.\n",
            "[nltk_data]    | Downloading package propbank to /root/nltk_data...\n",
            "[nltk_data]    | Downloading package ptb to /root/nltk_data...\n",
            "[nltk_data]    |   Unzipping corpora/ptb.zip.\n",
            "[nltk_data]    | Downloading package product_reviews_1 to\n",
            "[nltk_data]    |     /root/nltk_data...\n",
            "[nltk_data]    |   Unzipping corpora/product_reviews_1.zip.\n",
            "[nltk_data]    | Downloading package product_reviews_2 to\n",
            "[nltk_data]    |     /root/nltk_data...\n",
            "[nltk_data]    |   Unzipping corpora/product_reviews_2.zip.\n",
            "[nltk_data]    | Downloading package pros_cons to /root/nltk_data...\n",
            "[nltk_data]    |   Unzipping corpora/pros_cons.zip.\n",
            "[nltk_data]    | Downloading package qc to /root/nltk_data...\n",
            "[nltk_data]    |   Unzipping corpora/qc.zip.\n",
            "[nltk_data]    | Downloading package reuters to /root/nltk_data...\n",
            "[nltk_data]    | Downloading package rte to /root/nltk_data...\n",
            "[nltk_data]    |   Unzipping corpora/rte.zip.\n",
            "[nltk_data]    | Downloading package semcor to /root/nltk_data...\n",
            "[nltk_data]    | Downloading package senseval to /root/nltk_data...\n",
            "[nltk_data]    |   Unzipping corpora/senseval.zip.\n",
            "[nltk_data]    | Downloading package sentiwordnet to\n",
            "[nltk_data]    |     /root/nltk_data...\n",
            "[nltk_data]    |   Unzipping corpora/sentiwordnet.zip.\n",
            "[nltk_data]    | Downloading package sentence_polarity to\n",
            "[nltk_data]    |     /root/nltk_data...\n",
            "[nltk_data]    |   Unzipping corpora/sentence_polarity.zip.\n",
            "[nltk_data]    | Downloading package shakespeare to /root/nltk_data...\n",
            "[nltk_data]    |   Unzipping corpora/shakespeare.zip.\n",
            "[nltk_data]    | Downloading package sinica_treebank to\n",
            "[nltk_data]    |     /root/nltk_data...\n",
            "[nltk_data]    |   Unzipping corpora/sinica_treebank.zip.\n",
            "[nltk_data]    | Downloading package smultron to /root/nltk_data...\n",
            "[nltk_data]    |   Unzipping corpora/smultron.zip.\n",
            "[nltk_data]    | Downloading package state_union to /root/nltk_data...\n",
            "[nltk_data]    |   Unzipping corpora/state_union.zip.\n",
            "[nltk_data]    | Downloading package stopwords to /root/nltk_data...\n",
            "[nltk_data]    |   Unzipping corpora/stopwords.zip.\n",
            "[nltk_data]    | Downloading package subjectivity to\n",
            "[nltk_data]    |     /root/nltk_data...\n",
            "[nltk_data]    |   Unzipping corpora/subjectivity.zip.\n",
            "[nltk_data]    | Downloading package swadesh to /root/nltk_data...\n",
            "[nltk_data]    |   Unzipping corpora/swadesh.zip.\n",
            "[nltk_data]    | Downloading package switchboard to /root/nltk_data...\n",
            "[nltk_data]    |   Unzipping corpora/switchboard.zip.\n",
            "[nltk_data]    | Downloading package timit to /root/nltk_data...\n",
            "[nltk_data]    |   Unzipping corpora/timit.zip.\n",
            "[nltk_data]    | Downloading package toolbox to /root/nltk_data...\n",
            "[nltk_data]    |   Unzipping corpora/toolbox.zip.\n",
            "[nltk_data]    | Downloading package treebank to /root/nltk_data...\n",
            "[nltk_data]    |   Unzipping corpora/treebank.zip.\n",
            "[nltk_data]    | Downloading package twitter_samples to\n",
            "[nltk_data]    |     /root/nltk_data...\n",
            "[nltk_data]    |   Unzipping corpora/twitter_samples.zip.\n",
            "[nltk_data]    | Downloading package udhr to /root/nltk_data...\n",
            "[nltk_data]    |   Unzipping corpora/udhr.zip.\n",
            "[nltk_data]    | Downloading package udhr2 to /root/nltk_data...\n",
            "[nltk_data]    |   Unzipping corpora/udhr2.zip.\n",
            "[nltk_data]    | Downloading package unicode_samples to\n",
            "[nltk_data]    |     /root/nltk_data...\n",
            "[nltk_data]    |   Unzipping corpora/unicode_samples.zip.\n",
            "[nltk_data]    | Downloading package universal_treebanks_v20 to\n",
            "[nltk_data]    |     /root/nltk_data...\n",
            "[nltk_data]    | Downloading package verbnet to /root/nltk_data...\n",
            "[nltk_data]    |   Unzipping corpora/verbnet.zip.\n",
            "[nltk_data]    | Downloading package verbnet3 to /root/nltk_data...\n",
            "[nltk_data]    |   Unzipping corpora/verbnet3.zip.\n",
            "[nltk_data]    | Downloading package webtext to /root/nltk_data...\n",
            "[nltk_data]    |   Unzipping corpora/webtext.zip.\n",
            "[nltk_data]    | Downloading package wordnet to /root/nltk_data...\n",
            "[nltk_data]    |   Unzipping corpora/wordnet.zip.\n",
            "[nltk_data]    | Downloading package wordnet_ic to /root/nltk_data...\n",
            "[nltk_data]    |   Unzipping corpora/wordnet_ic.zip.\n",
            "[nltk_data]    | Downloading package words to /root/nltk_data...\n",
            "[nltk_data]    |   Unzipping corpora/words.zip.\n",
            "[nltk_data]    | Downloading package ycoe to /root/nltk_data...\n",
            "[nltk_data]    |   Unzipping corpora/ycoe.zip.\n",
            "[nltk_data]    | Downloading package rslp to /root/nltk_data...\n",
            "[nltk_data]    |   Unzipping stemmers/rslp.zip.\n",
            "[nltk_data]    | Downloading package maxent_treebank_pos_tagger to\n",
            "[nltk_data]    |     /root/nltk_data...\n",
            "[nltk_data]    |   Unzipping taggers/maxent_treebank_pos_tagger.zip.\n",
            "[nltk_data]    | Downloading package universal_tagset to\n",
            "[nltk_data]    |     /root/nltk_data...\n",
            "[nltk_data]    |   Unzipping taggers/universal_tagset.zip.\n",
            "[nltk_data]    | Downloading package maxent_ne_chunker to\n",
            "[nltk_data]    |     /root/nltk_data...\n",
            "[nltk_data]    |   Unzipping chunkers/maxent_ne_chunker.zip.\n",
            "[nltk_data]    | Downloading package punkt to /root/nltk_data...\n",
            "[nltk_data]    |   Unzipping tokenizers/punkt.zip.\n",
            "[nltk_data]    | Downloading package book_grammars to\n",
            "[nltk_data]    |     /root/nltk_data...\n",
            "[nltk_data]    |   Unzipping grammars/book_grammars.zip.\n",
            "[nltk_data]    | Downloading package sample_grammars to\n",
            "[nltk_data]    |     /root/nltk_data...\n",
            "[nltk_data]    |   Unzipping grammars/sample_grammars.zip.\n",
            "[nltk_data]    | Downloading package spanish_grammars to\n",
            "[nltk_data]    |     /root/nltk_data...\n",
            "[nltk_data]    |   Unzipping grammars/spanish_grammars.zip.\n",
            "[nltk_data]    | Downloading package basque_grammars to\n",
            "[nltk_data]    |     /root/nltk_data...\n",
            "[nltk_data]    |   Unzipping grammars/basque_grammars.zip.\n",
            "[nltk_data]    | Downloading package large_grammars to\n",
            "[nltk_data]    |     /root/nltk_data...\n",
            "[nltk_data]    |   Unzipping grammars/large_grammars.zip.\n",
            "[nltk_data]    | Downloading package tagsets to /root/nltk_data...\n",
            "[nltk_data]    |   Unzipping help/tagsets.zip.\n",
            "[nltk_data]    | Downloading package snowball_data to\n",
            "[nltk_data]    |     /root/nltk_data...\n",
            "[nltk_data]    | Downloading package bllip_wsj_no_aux to\n",
            "[nltk_data]    |     /root/nltk_data...\n",
            "[nltk_data]    |   Unzipping models/bllip_wsj_no_aux.zip.\n",
            "[nltk_data]    | Downloading package word2vec_sample to\n",
            "[nltk_data]    |     /root/nltk_data...\n",
            "[nltk_data]    |   Unzipping models/word2vec_sample.zip.\n",
            "[nltk_data]    | Downloading package panlex_swadesh to\n",
            "[nltk_data]    |     /root/nltk_data...\n",
            "[nltk_data]    | Downloading package mte_teip5 to /root/nltk_data...\n",
            "[nltk_data]    |   Unzipping corpora/mte_teip5.zip.\n",
            "[nltk_data]    | Downloading package averaged_perceptron_tagger to\n",
            "[nltk_data]    |     /root/nltk_data...\n",
            "[nltk_data]    |   Unzipping taggers/averaged_perceptron_tagger.zip.\n",
            "[nltk_data]    | Downloading package averaged_perceptron_tagger_ru to\n",
            "[nltk_data]    |     /root/nltk_data...\n",
            "[nltk_data]    |   Unzipping\n",
            "[nltk_data]    |       taggers/averaged_perceptron_tagger_ru.zip.\n",
            "[nltk_data]    | Downloading package perluniprops to\n",
            "[nltk_data]    |     /root/nltk_data...\n",
            "[nltk_data]    |   Unzipping misc/perluniprops.zip.\n",
            "[nltk_data]    | Downloading package nonbreaking_prefixes to\n",
            "[nltk_data]    |     /root/nltk_data...\n",
            "[nltk_data]    |   Unzipping corpora/nonbreaking_prefixes.zip.\n",
            "[nltk_data]    | Downloading package vader_lexicon to\n",
            "[nltk_data]    |     /root/nltk_data...\n",
            "[nltk_data]    | Downloading package porter_test to /root/nltk_data...\n",
            "[nltk_data]    |   Unzipping stemmers/porter_test.zip.\n",
            "[nltk_data]    | Downloading package wmt15_eval to /root/nltk_data...\n",
            "[nltk_data]    |   Unzipping models/wmt15_eval.zip.\n",
            "[nltk_data]    | Downloading package mwa_ppdb to /root/nltk_data...\n",
            "[nltk_data]    |   Unzipping misc/mwa_ppdb.zip.\n",
            "[nltk_data]    | \n",
            "[nltk_data]  Done downloading collection all\n",
            "23911\n"
          ],
          "name": "stdout"
        }
      ]
    },
    {
      "cell_type": "code",
      "metadata": {
        "id": "oT79c3JB_d23",
        "colab_type": "code",
        "colab": {}
      },
      "source": [
        "#list of contractions and the expanded mapping used for cleaning the data\n",
        "CONTRACTION_MAP = {\n",
        "\"ain't\": \"is not\",\n",
        "\"aren't\": \"are not\",\n",
        "\"can't\": \"cannot\",\n",
        "\"can't've\": \"cannot have\",\n",
        "\"'cause\": \"because\",\n",
        "\"could've\": \"could have\",\n",
        "\"couldn't\": \"could not\",\n",
        "\"couldn't've\": \"could not have\",\n",
        "\"didn't\": \"did not\",\n",
        "\"doesn't\": \"does not\",\n",
        "\"don't\": \"do not\",\n",
        "\"hadn't\": \"had not\",\n",
        "\"hadn't've\": \"had not have\",\n",
        "\"hasn't\": \"has not\",\n",
        "\"haven't\": \"have not\",\n",
        "\"he'd\": \"he would\",\n",
        "\"he'd've\": \"he would have\",\n",
        "\"he'll\": \"he will\",\n",
        "\"he'll've\": \"he he will have\",\n",
        "\"he's\": \"he is\",\n",
        "\"how'd\": \"how did\",\n",
        "\"how'd'y\": \"how do you\",\n",
        "\"how'll\": \"how will\",\n",
        "\"how's\": \"how is\",\n",
        "\"I'd\": \"I would\",\n",
        "\"I'd've\": \"I would have\",\n",
        "\"I'll\": \"I will\",\n",
        "\"I'll've\": \"I will have\",\n",
        "\"I'm\": \"I am\",\n",
        "\"I've\": \"I have\",\n",
        "\"i'd\": \"i would\",\n",
        "\"i'd've\": \"i would have\",\n",
        "\"i'll\": \"i will\",\n",
        "\"i'll've\": \"i will have\",\n",
        "\"i'm\": \"i am\",\n",
        "\"i've\": \"i have\",\n",
        "\"isn't\": \"is not\",\n",
        "\"it'd\": \"it would\",\n",
        "\"it'd've\": \"it would have\",\n",
        "\"it'll\": \"it will\",\n",
        "\"it'll've\": \"it will have\",\n",
        "\"it's\": \"it is\",\n",
        "\"let's\": \"let us\",\n",
        "\"l\": \"i\",\n",
        "\"ma'am\": \"madam\",\n",
        "\"mayn't\": \"may not\",\n",
        "\"might've\": \"might have\",\n",
        "\"mightn't\": \"might not\",\n",
        "\"mightn't've\": \"might not have\",\n",
        "\"must've\": \"must have\",\n",
        "\"mustn't\": \"must not\",\n",
        "\"mustn't've\": \"must not have\",\n",
        "\"needn't\": \"need not\",\n",
        "\"needn't've\": \"need not have\",\n",
        "\"o'clock\": \"of the clock\",\n",
        "\"oughtn't\": \"ought not\",\n",
        "\"oughtn't've\": \"ought not have\",\n",
        "\"shan't\": \"shall not\",\n",
        "\"sha'n't\": \"shall not\",\n",
        "\"shan't've\": \"shall not have\",\n",
        "\"she'd\": \"she would\",\n",
        "\"she'd've\": \"she would have\",\n",
        "\"she'll\": \"she will\",\n",
        "\"she'll've\": \"she will have\",\n",
        "\"she's\": \"she is\",\n",
        "\"should've\": \"should have\",\n",
        "\"shouldn't\": \"should not\",\n",
        "\"shouldn't've\": \"should not have\",\n",
        "\"so've\": \"so have\",\n",
        "\"so's\": \"so as\",\n",
        "\"that'd\": \"that would\",\n",
        "\"that'd've\": \"that would have\",\n",
        "\"that's\": \"that is\",\n",
        "\"there'd\": \"there would\",\n",
        "\"there'd've\": \"there would have\",\n",
        "\"there's\": \"there is\",\n",
        "\"they'd\": \"they would\",\n",
        "\"they'd've\": \"they would have\",\n",
        "\"they'll\": \"they will\",\n",
        "\"they'll've\": \"they will have\",\n",
        "\"they're\": \"they are\",\n",
        "\"they've\": \"they have\",\n",
        "\"to've\": \"to have\",\n",
        "\"wasn't\": \"was not\",\n",
        "\"we'd\": \"we would\",\n",
        "\"we'd've\": \"we would have\",\n",
        "\"we'll\": \"we will\",\n",
        "\"we'll've\": \"we will have\",\n",
        "\"we're\": \"we are\",\n",
        "\"we've\": \"we have\",\n",
        "\"weren't\": \"were not\",\n",
        "\"what'll\": \"what will\",\n",
        "\"what'll've\": \"what will have\",\n",
        "\"what're\": \"what are\",\n",
        "\"what's\": \"what is\",\n",
        "\"what've\": \"what have\",\n",
        "\"when's\": \"when is\",\n",
        "\"when've\": \"when have\",\n",
        "\"where'd\": \"where did\",\n",
        "\"where's\": \"where is\",\n",
        "\"where've\": \"where have\",\n",
        "\"who'll\": \"who will\",\n",
        "\"who'll've\": \"who will have\",\n",
        "\"who's\": \"who is\",\n",
        "\"who've\": \"who have\",\n",
        "\"why's\": \"why is\",\n",
        "\"why've\": \"why have\",\n",
        "\"will've\": \"will have\",\n",
        "\"won't\": \"will not\",\n",
        "\"won't've\": \"will not have\",\n",
        "\"would've\": \"would have\",\n",
        "\"wouldn't\": \"would not\",\n",
        "\"wouldn't've\": \"would not have\",\n",
        "\"y'all\": \"you all\",\n",
        "\"y'all'd\": \"you all would\",\n",
        "\"y'all'd've\": \"you all would have\",\n",
        "\"y'all're\": \"you all are\",\n",
        "\"y'all've\": \"you all have\",\n",
        "\"you'd\": \"you would\",\n",
        "\"you'd've\": \"you would have\",\n",
        "\"you'll\": \"you will\",\n",
        "\"you'll've\": \"you will have\",\n",
        "\"you're\": \"you are\",\n",
        "\"you've\": \"you have\"\n",
        "}\n"
      ],
      "execution_count": 0,
      "outputs": []
    },
    {
      "cell_type": "code",
      "metadata": {
        "id": "cle0cONgAULs",
        "colab_type": "code",
        "colab": {}
      },
      "source": [
        "#define a function, expand_contractions, which takes a string and expands all contractions within the string using contraction_map\n",
        "def expand_contractions(text, contraction_mapping=CONTRACTION_MAP):\n",
        "    expanded = ''\n",
        "    text = text.lower() #make all text lowercase\n",
        "    wordList = text.split() #put text into a list of words\n",
        "    for i in range(len(wordList)):\n",
        "        if wordList[i] in contraction_mapping.keys(): #for each word, if it is a contraction in the listing\n",
        "            expanded = expanded + ' ' + contraction_mapping[wordList[i]] #then replace with the expanded version\n",
        "        else:\n",
        "            expanded = expanded + ' ' + wordList[i] #otherwise, keep the original word\n",
        "    return expanded\n",
        "\n",
        "#define a function, remove_punctuation, which takes in a string and removes all punctuation \n",
        "def remove_punctuation(s):\n",
        "    s = s.translate(str.maketrans('','',string.punctuation)) #take out punctuation in the sentence\n",
        "    j = nltk.word_tokenize(s.lower()) #put each word in the sentence within a list, j\n",
        "    return s\n",
        "\n",
        "#define function, clean_sentences, which removes punctuation and expands all contractions in a sentence\n",
        "def clean_sentences(text):\n",
        "    return remove_punctuation(expand_contractions(text))\n",
        "    "
      ],
      "execution_count": 0,
      "outputs": []
    },
    {
      "cell_type": "code",
      "metadata": {
        "id": "YOXNk319AXLj",
        "colab_type": "code",
        "colab": {}
      },
      "source": [
        "#Expand contractions, remove punctuation all in one function clean_sentence\n",
        "GOT['Sentences_Clean'] = GOT.Sentence.apply(lambda x:clean_sentences(x))\n"
      ],
      "execution_count": 0,
      "outputs": []
    },
    {
      "cell_type": "code",
      "metadata": {
        "id": "FS53Yh89CAnb",
        "colab_type": "code",
        "colab": {}
      },
      "source": [
        "#Calculate words per line, assuming contractions are all expanded\n",
        "GOT[\"Num_Words\"] = GOT.Sentences_Clean.apply(lambda x: len(x.split()))\n",
        "GOT.to_csv (r'GOT_house_csv.csv', index = False, header=True)"
      ],
      "execution_count": 0,
      "outputs": []
    },
    {
      "cell_type": "markdown",
      "metadata": {
        "id": "X5ln7QIcDK6q",
        "colab_type": "text"
      },
      "source": [
        "# Now we will  prepare data for our Machine Learning Predictive model by only looking at mostly season 1 data and a subsection of season 2 data\n"
      ]
    },
    {
      "cell_type": "code",
      "metadata": {
        "id": "VdrjeoBTukgp",
        "colab_type": "code",
        "outputId": "27c82921-3d12-484f-e9f3-fda554d142c3",
        "colab": {
          "base_uri": "https://localhost:8080/",
          "height": 916
        }
      },
      "source": [
        "#Extract only season one data and two data\n",
        "GOT1=GOT[GOT.Season==\"Season 1\"]\n",
        "GOT2=GOT[GOT.Season==\"Season 2\"]\n",
        "\n",
        "print(GOT1.head())\n",
        "print(GOT1.info())\n",
        "\n",
        "print(GOT2.head())\n",
        "print(GOT2.info())"
      ],
      "execution_count": 6,
      "outputs": [
        {
          "output_type": "stream",
          "text": [
            "  Release Date  ... Num_Words\n",
            "0    4/17/2011  ...        27\n",
            "1    4/17/2011  ...        23\n",
            "2    4/17/2011  ...         5\n",
            "3    4/17/2011  ...         5\n",
            "4    4/17/2011  ...         7\n",
            "\n",
            "[5 rows x 9 columns]\n",
            "<class 'pandas.core.frame.DataFrame'>\n",
            "Int64Index: 3179 entries, 0 to 3178\n",
            "Data columns (total 9 columns):\n",
            " #   Column           Non-Null Count  Dtype \n",
            "---  ------           --------------  ----- \n",
            " 0   Release Date     3179 non-null   object\n",
            " 1   Season           3179 non-null   object\n",
            " 2   Episode          3179 non-null   object\n",
            " 3   Episode Title    3179 non-null   object\n",
            " 4   Name             3179 non-null   object\n",
            " 5   Sentence         3179 non-null   object\n",
            " 6   House            2907 non-null   object\n",
            " 7   Sentences_Clean  3179 non-null   object\n",
            " 8   Num_Words        3179 non-null   int64 \n",
            "dtypes: int64(1), object(8)\n",
            "memory usage: 248.4+ KB\n",
            "None\n",
            "     Release Date    Season  ...                     Sentences_Clean Num_Words\n",
            "3179     4/1/2012  Season 2  ...        well struck… well struck dog         5\n",
            "3180     4/1/2012  Season 2  ...                   did you like that         4\n",
            "3181     4/1/2012  Season 2  ...       it was well struck your grace         6\n",
            "3182     4/1/2012  Season 2  ...   i already said it was well struck         7\n",
            "3183     4/1/2012  Season 2  ...                      yes your grace         3\n",
            "\n",
            "[5 rows x 9 columns]\n",
            "<class 'pandas.core.frame.DataFrame'>\n",
            "Int64Index: 3179 entries, 0 to 3178\n",
            "Data columns (total 9 columns):\n",
            " #   Column           Non-Null Count  Dtype \n",
            "---  ------           --------------  ----- \n",
            " 0   Release Date     3179 non-null   object\n",
            " 1   Season           3179 non-null   object\n",
            " 2   Episode          3179 non-null   object\n",
            " 3   Episode Title    3179 non-null   object\n",
            " 4   Name             3179 non-null   object\n",
            " 5   Sentence         3179 non-null   object\n",
            " 6   House            2907 non-null   object\n",
            " 7   Sentences_Clean  3179 non-null   object\n",
            " 8   Num_Words        3179 non-null   int64 \n",
            "dtypes: int64(1), object(8)\n",
            "memory usage: 248.4+ KB\n",
            "None\n"
          ],
          "name": "stdout"
        }
      ]
    },
    {
      "cell_type": "code",
      "metadata": {
        "id": "lbaevQcMf3Qj",
        "colab_type": "code",
        "outputId": "f5eb4bc2-9131-4457-b07f-52a13c9d36c4",
        "colab": {
          "base_uri": "https://localhost:8080/",
          "height": 232
        }
      },
      "source": [
        "# Keep character lines if and only if they still exist in season 2\n",
        "\n",
        "#Find a unique list of characters in season 2\n",
        "\n",
        "char_S2=GOT2.Name.unique()\n",
        "print(len(char_S2))\n",
        "\n",
        "#Filter S1 data if characters are in S2\n",
        "GOT1_modified=GOT1[GOT1['Name'].isin(char_S2)]\n",
        "print(len(GOT1_modified.Name.unique()))\n",
        "print(GOT1_modified.Name.unique())"
      ],
      "execution_count": 7,
      "outputs": [
        {
          "output_type": "stream",
          "text": [
            "136\n",
            "49\n",
            "['jon snow' 'sansa stark' 'robb stark' 'catelyn stark' 'bran stark'\n",
            " 'theon greyjoy' 'jaime lannister' 'cersei lannister' 'luwin' 'arya stark'\n",
            " 'tyrion lannister' 'ros' 'daenerys targaryen' 'jorah mormont'\n",
            " 'khal drogo' 'sandor clegane' 'doreah' 'irri' 'joffrey lannister'\n",
            " 'myrcella baratheon' 'rodrick cassel' 'soldier' 'varys' 'renly baratheon'\n",
            " 'petyr baelish' 'grand maester pycelle' 'guard' 'jeor mormont' 'grenn'\n",
            " 'lancel lannister' 'rakharo' 'yoren' 'sam tarly' 'janos'\n",
            " 'gendry baratheon' 'bronn' 'loras tyrell' 'osha' 'wildling' 'man'\n",
            " 'tywin lannister' 'meryn trant' 'kevan lannister' 'all' 'prostitute'\n",
            " 'shae' 'rickon stark' 'karstark' 'hot pie']\n"
          ],
          "name": "stdout"
        }
      ]
    },
    {
      "cell_type": "code",
      "metadata": {
        "id": "eUhNemrdcXNg",
        "colab_type": "code",
        "outputId": "750b600c-2736-4c34-b54a-6d61ca439680",
        "colab": {
          "base_uri": "https://localhost:8080/",
          "height": 808
        }
      },
      "source": [
        "#Further filter based on characters of interest \n",
        "#removing generic characters such as solider, guard, prostitute, etc\n",
        "important_names=np.delete(GOT1_modified.Name.unique(),(21,26,38,39,43,44));\n",
        "print(important_names)\n",
        "\n",
        "\n",
        "print(len(important_names))\n",
        "\n",
        "GOT1_modified=GOT1_modified[GOT1_modified['Name'].isin(important_names)]\n",
        "GOT1_modified.head()\n",
        "print(len(GOT1_modified.Name.unique()))\n",
        "\n",
        "GOT1_modified.info()\n",
        "GOT1=GOT1_modified\n",
        "GOT1.info()"
      ],
      "execution_count": 8,
      "outputs": [
        {
          "output_type": "stream",
          "text": [
            "['jon snow' 'sansa stark' 'robb stark' 'catelyn stark' 'bran stark'\n",
            " 'theon greyjoy' 'jaime lannister' 'cersei lannister' 'luwin' 'arya stark'\n",
            " 'tyrion lannister' 'ros' 'daenerys targaryen' 'jorah mormont'\n",
            " 'khal drogo' 'sandor clegane' 'doreah' 'irri' 'joffrey lannister'\n",
            " 'myrcella baratheon' 'rodrick cassel' 'varys' 'renly baratheon'\n",
            " 'petyr baelish' 'grand maester pycelle' 'jeor mormont' 'grenn'\n",
            " 'lancel lannister' 'rakharo' 'yoren' 'sam tarly' 'janos'\n",
            " 'gendry baratheon' 'bronn' 'loras tyrell' 'osha' 'tywin lannister'\n",
            " 'meryn trant' 'kevan lannister' 'shae' 'rickon stark' 'karstark'\n",
            " 'hot pie']\n",
            "43\n",
            "43\n",
            "<class 'pandas.core.frame.DataFrame'>\n",
            "Int64Index: 2120 entries, 15 to 3178\n",
            "Data columns (total 9 columns):\n",
            " #   Column           Non-Null Count  Dtype \n",
            "---  ------           --------------  ----- \n",
            " 0   Release Date     2120 non-null   object\n",
            " 1   Season           2120 non-null   object\n",
            " 2   Episode          2120 non-null   object\n",
            " 3   Episode Title    2120 non-null   object\n",
            " 4   Name             2120 non-null   object\n",
            " 5   Sentence         2120 non-null   object\n",
            " 6   House            2081 non-null   object\n",
            " 7   Sentences_Clean  2120 non-null   object\n",
            " 8   Num_Words        2120 non-null   int64 \n",
            "dtypes: int64(1), object(8)\n",
            "memory usage: 165.6+ KB\n",
            "<class 'pandas.core.frame.DataFrame'>\n",
            "Int64Index: 2120 entries, 15 to 3178\n",
            "Data columns (total 9 columns):\n",
            " #   Column           Non-Null Count  Dtype \n",
            "---  ------           --------------  ----- \n",
            " 0   Release Date     2120 non-null   object\n",
            " 1   Season           2120 non-null   object\n",
            " 2   Episode          2120 non-null   object\n",
            " 3   Episode Title    2120 non-null   object\n",
            " 4   Name             2120 non-null   object\n",
            " 5   Sentence         2120 non-null   object\n",
            " 6   House            2081 non-null   object\n",
            " 7   Sentences_Clean  2120 non-null   object\n",
            " 8   Num_Words        2120 non-null   int64 \n",
            "dtypes: int64(1), object(8)\n",
            "memory usage: 165.6+ KB\n"
          ],
          "name": "stdout"
        }
      ]
    },
    {
      "cell_type": "code",
      "metadata": {
        "id": "TOo0mZPmOaqr",
        "colab_type": "code",
        "outputId": "0bffa734-08c7-43ec-eaaf-0f3883a4ffc9",
        "colab": {
          "base_uri": "https://localhost:8080/",
          "height": 388
        }
      },
      "source": [
        "#Tokenize the words and remove between words punctunations\n",
        "tokenizer=nltk.RegexpTokenizer(r\"\\w+\")\n",
        "GOT1['Tokenized_Sentence']=GOT1.Sentences_Clean.apply(lambda x:tokenizer.tokenize(x.lower()))\n",
        "GOT1.head(100)\n"
      ],
      "execution_count": 9,
      "outputs": [
        {
          "output_type": "execute_result",
          "data": {
            "text/html": [
              "<div>\n",
              "<style scoped>\n",
              "    .dataframe tbody tr th:only-of-type {\n",
              "        vertical-align: middle;\n",
              "    }\n",
              "\n",
              "    .dataframe tbody tr th {\n",
              "        vertical-align: top;\n",
              "    }\n",
              "\n",
              "    .dataframe thead th {\n",
              "        text-align: right;\n",
              "    }\n",
              "</style>\n",
              "<table border=\"1\" class=\"dataframe\">\n",
              "  <thead>\n",
              "    <tr style=\"text-align: right;\">\n",
              "      <th></th>\n",
              "      <th>Release Date</th>\n",
              "      <th>Season</th>\n",
              "      <th>Episode</th>\n",
              "      <th>Episode Title</th>\n",
              "      <th>Name</th>\n",
              "      <th>Sentence</th>\n",
              "      <th>House</th>\n",
              "      <th>Sentences_Clean</th>\n",
              "      <th>Num_Words</th>\n",
              "      <th>Tokenized_Sentence</th>\n",
              "    </tr>\n",
              "  </thead>\n",
              "  <tbody>\n",
              "    <tr>\n",
              "      <th>15</th>\n",
              "      <td>4/17/2011</td>\n",
              "      <td>Season 1</td>\n",
              "      <td>Episode 1</td>\n",
              "      <td>Winter is Coming</td>\n",
              "      <td>jon snow</td>\n",
              "      <td>Go on. Father's watching.</td>\n",
              "      <td>House Stark</td>\n",
              "      <td>go on fathers watching</td>\n",
              "      <td>4</td>\n",
              "      <td>[go, on, fathers, watching]</td>\n",
              "    </tr>\n",
              "    <tr>\n",
              "      <th>16</th>\n",
              "      <td>4/17/2011</td>\n",
              "      <td>Season 1</td>\n",
              "      <td>Episode 1</td>\n",
              "      <td>Winter is Coming</td>\n",
              "      <td>jon snow</td>\n",
              "      <td>And your mother.</td>\n",
              "      <td>House Stark</td>\n",
              "      <td>and your mother</td>\n",
              "      <td>3</td>\n",
              "      <td>[and, your, mother]</td>\n",
              "    </tr>\n",
              "    <tr>\n",
              "      <th>18</th>\n",
              "      <td>4/17/2011</td>\n",
              "      <td>Season 1</td>\n",
              "      <td>Episode 1</td>\n",
              "      <td>Winter is Coming</td>\n",
              "      <td>sansa stark</td>\n",
              "      <td>Thank you.</td>\n",
              "      <td>House Stark</td>\n",
              "      <td>thank you</td>\n",
              "      <td>2</td>\n",
              "      <td>[thank, you]</td>\n",
              "    </tr>\n",
              "    <tr>\n",
              "      <th>21</th>\n",
              "      <td>4/17/2011</td>\n",
              "      <td>Season 1</td>\n",
              "      <td>Episode 1</td>\n",
              "      <td>Winter is Coming</td>\n",
              "      <td>jon snow</td>\n",
              "      <td>Don't think too much, Bran.</td>\n",
              "      <td>House Stark</td>\n",
              "      <td>do not think too much bran</td>\n",
              "      <td>6</td>\n",
              "      <td>[do, not, think, too, much, bran]</td>\n",
              "    </tr>\n",
              "    <tr>\n",
              "      <th>22</th>\n",
              "      <td>4/17/2011</td>\n",
              "      <td>Season 1</td>\n",
              "      <td>Episode 1</td>\n",
              "      <td>Winter is Coming</td>\n",
              "      <td>robb stark</td>\n",
              "      <td>Relax your bow arm.</td>\n",
              "      <td>House Stark</td>\n",
              "      <td>relax your bow arm</td>\n",
              "      <td>4</td>\n",
              "      <td>[relax, your, bow, arm]</td>\n",
              "    </tr>\n",
              "    <tr>\n",
              "      <th>...</th>\n",
              "      <td>...</td>\n",
              "      <td>...</td>\n",
              "      <td>...</td>\n",
              "      <td>...</td>\n",
              "      <td>...</td>\n",
              "      <td>...</td>\n",
              "      <td>...</td>\n",
              "      <td>...</td>\n",
              "      <td>...</td>\n",
              "      <td>...</td>\n",
              "    </tr>\n",
              "    <tr>\n",
              "      <th>163</th>\n",
              "      <td>4/17/2011</td>\n",
              "      <td>Season 1</td>\n",
              "      <td>Episode 1</td>\n",
              "      <td>Winter is Coming</td>\n",
              "      <td>tyrion lannister</td>\n",
              "      <td>She has odd cravings, our sister.</td>\n",
              "      <td>House Lannister</td>\n",
              "      <td>she has odd cravings our sister</td>\n",
              "      <td>6</td>\n",
              "      <td>[she, has, odd, cravings, our, sister]</td>\n",
              "    </tr>\n",
              "    <tr>\n",
              "      <th>164</th>\n",
              "      <td>4/17/2011</td>\n",
              "      <td>Season 1</td>\n",
              "      <td>Episode 1</td>\n",
              "      <td>Winter is Coming</td>\n",
              "      <td>jaime lannister</td>\n",
              "      <td>A family trait. Now, the Starks are feasting u...</td>\n",
              "      <td>House Lannister</td>\n",
              "      <td>a family trait now the starks are feasting us...</td>\n",
              "      <td>19</td>\n",
              "      <td>[a, family, trait, now, the, starks, are, feas...</td>\n",
              "    </tr>\n",
              "    <tr>\n",
              "      <th>165</th>\n",
              "      <td>4/17/2011</td>\n",
              "      <td>Season 1</td>\n",
              "      <td>Episode 1</td>\n",
              "      <td>Winter is Coming</td>\n",
              "      <td>tyrion lannister</td>\n",
              "      <td>I'm sorry, I've begun the feast a bit early. A...</td>\n",
              "      <td>House Lannister</td>\n",
              "      <td>i am sorry i have begun the feast a bit early...</td>\n",
              "      <td>19</td>\n",
              "      <td>[i, am, sorry, i, have, begun, the, feast, a, ...</td>\n",
              "    </tr>\n",
              "    <tr>\n",
              "      <th>166</th>\n",
              "      <td>4/17/2011</td>\n",
              "      <td>Season 1</td>\n",
              "      <td>Episode 1</td>\n",
              "      <td>Winter is Coming</td>\n",
              "      <td>jaime lannister</td>\n",
              "      <td>I thought you might say that. But since we're ...</td>\n",
              "      <td>House Lannister</td>\n",
              "      <td>i thought you might say that but since we are...</td>\n",
              "      <td>20</td>\n",
              "      <td>[i, thought, you, might, say, that, but, since...</td>\n",
              "    </tr>\n",
              "    <tr>\n",
              "      <th>167</th>\n",
              "      <td>4/17/2011</td>\n",
              "      <td>Season 1</td>\n",
              "      <td>Episode 1</td>\n",
              "      <td>Winter is Coming</td>\n",
              "      <td>tyrion lannister</td>\n",
              "      <td>Close the door!</td>\n",
              "      <td>House Lannister</td>\n",
              "      <td>close the door</td>\n",
              "      <td>3</td>\n",
              "      <td>[close, the, door]</td>\n",
              "    </tr>\n",
              "  </tbody>\n",
              "</table>\n",
              "<p>100 rows × 10 columns</p>\n",
              "</div>"
            ],
            "text/plain": [
              "    Release Date  ...                                 Tokenized_Sentence\n",
              "15     4/17/2011  ...                        [go, on, fathers, watching]\n",
              "16     4/17/2011  ...                                [and, your, mother]\n",
              "18     4/17/2011  ...                                       [thank, you]\n",
              "21     4/17/2011  ...                  [do, not, think, too, much, bran]\n",
              "22     4/17/2011  ...                            [relax, your, bow, arm]\n",
              "..           ...  ...                                                ...\n",
              "163    4/17/2011  ...             [she, has, odd, cravings, our, sister]\n",
              "164    4/17/2011  ...  [a, family, trait, now, the, starks, are, feas...\n",
              "165    4/17/2011  ...  [i, am, sorry, i, have, begun, the, feast, a, ...\n",
              "166    4/17/2011  ...  [i, thought, you, might, say, that, but, since...\n",
              "167    4/17/2011  ...                                 [close, the, door]\n",
              "\n",
              "[100 rows x 10 columns]"
            ]
          },
          "metadata": {
            "tags": []
          },
          "execution_count": 9
        }
      ]
    },
    {
      "cell_type": "code",
      "metadata": {
        "id": "zyBF3RVqPFf1",
        "colab_type": "code",
        "colab": {}
      },
      "source": [
        "#Remove stopwords for sentiment analysis\n",
        "stopword=nltk.corpus.stopwords.words('english')\n"
      ],
      "execution_count": 0,
      "outputs": []
    },
    {
      "cell_type": "code",
      "metadata": {
        "id": "0J8WRWnGeFvN",
        "colab_type": "code",
        "colab": {}
      },
      "source": [
        "#Define a function to remove stop words\n",
        "def remove_stopwords(tokenized_sentence):\n",
        "  text=[word for word in tokenized_sentence if word not in stopword]\n",
        "  return text"
      ],
      "execution_count": 0,
      "outputs": []
    },
    {
      "cell_type": "code",
      "metadata": {
        "id": "BGBoLfGGefi_",
        "colab_type": "code",
        "outputId": "6caf34f2-9871-4c76-ce4f-0b490cb0575b",
        "colab": {
          "base_uri": "https://localhost:8080/",
          "height": 189
        }
      },
      "source": [
        "#Implement the remove stop words function to a new column \n",
        "GOT1['Tokenized_No_Stop']=GOT1.Tokenized_Sentence.apply(lambda x:remove_stopwords(x))\n",
        "GOT1.head()"
      ],
      "execution_count": 12,
      "outputs": [
        {
          "output_type": "execute_result",
          "data": {
            "text/html": [
              "<div>\n",
              "<style scoped>\n",
              "    .dataframe tbody tr th:only-of-type {\n",
              "        vertical-align: middle;\n",
              "    }\n",
              "\n",
              "    .dataframe tbody tr th {\n",
              "        vertical-align: top;\n",
              "    }\n",
              "\n",
              "    .dataframe thead th {\n",
              "        text-align: right;\n",
              "    }\n",
              "</style>\n",
              "<table border=\"1\" class=\"dataframe\">\n",
              "  <thead>\n",
              "    <tr style=\"text-align: right;\">\n",
              "      <th></th>\n",
              "      <th>Release Date</th>\n",
              "      <th>Season</th>\n",
              "      <th>Episode</th>\n",
              "      <th>Episode Title</th>\n",
              "      <th>Name</th>\n",
              "      <th>Sentence</th>\n",
              "      <th>House</th>\n",
              "      <th>Sentences_Clean</th>\n",
              "      <th>Num_Words</th>\n",
              "      <th>Tokenized_Sentence</th>\n",
              "      <th>Tokenized_No_Stop</th>\n",
              "    </tr>\n",
              "  </thead>\n",
              "  <tbody>\n",
              "    <tr>\n",
              "      <th>15</th>\n",
              "      <td>4/17/2011</td>\n",
              "      <td>Season 1</td>\n",
              "      <td>Episode 1</td>\n",
              "      <td>Winter is Coming</td>\n",
              "      <td>jon snow</td>\n",
              "      <td>Go on. Father's watching.</td>\n",
              "      <td>House Stark</td>\n",
              "      <td>go on fathers watching</td>\n",
              "      <td>4</td>\n",
              "      <td>[go, on, fathers, watching]</td>\n",
              "      <td>[go, fathers, watching]</td>\n",
              "    </tr>\n",
              "    <tr>\n",
              "      <th>16</th>\n",
              "      <td>4/17/2011</td>\n",
              "      <td>Season 1</td>\n",
              "      <td>Episode 1</td>\n",
              "      <td>Winter is Coming</td>\n",
              "      <td>jon snow</td>\n",
              "      <td>And your mother.</td>\n",
              "      <td>House Stark</td>\n",
              "      <td>and your mother</td>\n",
              "      <td>3</td>\n",
              "      <td>[and, your, mother]</td>\n",
              "      <td>[mother]</td>\n",
              "    </tr>\n",
              "    <tr>\n",
              "      <th>18</th>\n",
              "      <td>4/17/2011</td>\n",
              "      <td>Season 1</td>\n",
              "      <td>Episode 1</td>\n",
              "      <td>Winter is Coming</td>\n",
              "      <td>sansa stark</td>\n",
              "      <td>Thank you.</td>\n",
              "      <td>House Stark</td>\n",
              "      <td>thank you</td>\n",
              "      <td>2</td>\n",
              "      <td>[thank, you]</td>\n",
              "      <td>[thank]</td>\n",
              "    </tr>\n",
              "    <tr>\n",
              "      <th>21</th>\n",
              "      <td>4/17/2011</td>\n",
              "      <td>Season 1</td>\n",
              "      <td>Episode 1</td>\n",
              "      <td>Winter is Coming</td>\n",
              "      <td>jon snow</td>\n",
              "      <td>Don't think too much, Bran.</td>\n",
              "      <td>House Stark</td>\n",
              "      <td>do not think too much bran</td>\n",
              "      <td>6</td>\n",
              "      <td>[do, not, think, too, much, bran]</td>\n",
              "      <td>[think, much, bran]</td>\n",
              "    </tr>\n",
              "    <tr>\n",
              "      <th>22</th>\n",
              "      <td>4/17/2011</td>\n",
              "      <td>Season 1</td>\n",
              "      <td>Episode 1</td>\n",
              "      <td>Winter is Coming</td>\n",
              "      <td>robb stark</td>\n",
              "      <td>Relax your bow arm.</td>\n",
              "      <td>House Stark</td>\n",
              "      <td>relax your bow arm</td>\n",
              "      <td>4</td>\n",
              "      <td>[relax, your, bow, arm]</td>\n",
              "      <td>[relax, bow, arm]</td>\n",
              "    </tr>\n",
              "  </tbody>\n",
              "</table>\n",
              "</div>"
            ],
            "text/plain": [
              "   Release Date  ...        Tokenized_No_Stop\n",
              "15    4/17/2011  ...  [go, fathers, watching]\n",
              "16    4/17/2011  ...                 [mother]\n",
              "18    4/17/2011  ...                  [thank]\n",
              "21    4/17/2011  ...      [think, much, bran]\n",
              "22    4/17/2011  ...        [relax, bow, arm]\n",
              "\n",
              "[5 rows x 11 columns]"
            ]
          },
          "metadata": {
            "tags": []
          },
          "execution_count": 12
        }
      ]
    },
    {
      "cell_type": "code",
      "metadata": {
        "id": "BnF0bKWXe63D",
        "colab_type": "code",
        "outputId": "f804a5e4-0e50-4bb1-d167-a5f384a0716c",
        "colab": {
          "base_uri": "https://localhost:8080/",
          "height": 189
        }
      },
      "source": [
        "# Stemming of the Non Stop Words Column\n",
        "wn=nltk.WordNetLemmatizer()\n",
        "\n",
        "def stem_reduction(tokenized_sentence):\n",
        "  sentence=[wn.lemmatize(word) for word in tokenized_sentence]\n",
        "  return (sentence)\n",
        "\n",
        "GOT1['Stemmed_Sentence']=GOT1['Tokenized_No_Stop'].apply(lambda x:stem_reduction(x))\n",
        "GOT1.tail()"
      ],
      "execution_count": 13,
      "outputs": [
        {
          "output_type": "execute_result",
          "data": {
            "text/html": [
              "<div>\n",
              "<style scoped>\n",
              "    .dataframe tbody tr th:only-of-type {\n",
              "        vertical-align: middle;\n",
              "    }\n",
              "\n",
              "    .dataframe tbody tr th {\n",
              "        vertical-align: top;\n",
              "    }\n",
              "\n",
              "    .dataframe thead th {\n",
              "        text-align: right;\n",
              "    }\n",
              "</style>\n",
              "<table border=\"1\" class=\"dataframe\">\n",
              "  <thead>\n",
              "    <tr style=\"text-align: right;\">\n",
              "      <th></th>\n",
              "      <th>Release Date</th>\n",
              "      <th>Season</th>\n",
              "      <th>Episode</th>\n",
              "      <th>Episode Title</th>\n",
              "      <th>Name</th>\n",
              "      <th>Sentence</th>\n",
              "      <th>House</th>\n",
              "      <th>Sentences_Clean</th>\n",
              "      <th>Num_Words</th>\n",
              "      <th>Tokenized_Sentence</th>\n",
              "      <th>Tokenized_No_Stop</th>\n",
              "      <th>Stemmed_Sentence</th>\n",
              "    </tr>\n",
              "  </thead>\n",
              "  <tbody>\n",
              "    <tr>\n",
              "      <th>3173</th>\n",
              "      <td>6/19/2011</td>\n",
              "      <td>Season 1</td>\n",
              "      <td>Episode 10</td>\n",
              "      <td>Fire and Blood</td>\n",
              "      <td>jorah mormont</td>\n",
              "      <td>Don't ask me to stand aside as you climb on th...</td>\n",
              "      <td>House Mormont</td>\n",
              "      <td>do not ask me to stand aside as you climb on ...</td>\n",
              "      <td>19</td>\n",
              "      <td>[do, not, ask, me, to, stand, aside, as, you, ...</td>\n",
              "      <td>[ask, stand, aside, climb, pyre, watch, burn]</td>\n",
              "      <td>[ask, stand, aside, climb, pyre, watch, burn]</td>\n",
              "    </tr>\n",
              "    <tr>\n",
              "      <th>3174</th>\n",
              "      <td>6/19/2011</td>\n",
              "      <td>Season 1</td>\n",
              "      <td>Episode 10</td>\n",
              "      <td>Fire and Blood</td>\n",
              "      <td>daenerys targaryen</td>\n",
              "      <td>ls that what you fear? You will be my khalasar...</td>\n",
              "      <td>House Targaryen</td>\n",
              "      <td>ls that what you fear you will be my khalasar...</td>\n",
              "      <td>47</td>\n",
              "      <td>[ls, that, what, you, fear, you, will, be, my,...</td>\n",
              "      <td>[ls, fear, khalasar, see, faces, slaves, free,...</td>\n",
              "      <td>[l, fear, khalasar, see, face, slave, free, ta...</td>\n",
              "    </tr>\n",
              "    <tr>\n",
              "      <th>3175</th>\n",
              "      <td>6/19/2011</td>\n",
              "      <td>Season 1</td>\n",
              "      <td>Episode 10</td>\n",
              "      <td>Fire and Blood</td>\n",
              "      <td>daenerys targaryen</td>\n",
              "      <td>Ser Jorah, bind this woman to the pyre. You sw...</td>\n",
              "      <td>House Targaryen</td>\n",
              "      <td>ser jorah bind this woman to the pyre you swo...</td>\n",
              "      <td>13</td>\n",
              "      <td>[ser, jorah, bind, this, woman, to, the, pyre,...</td>\n",
              "      <td>[ser, jorah, bind, woman, pyre, swore, obey]</td>\n",
              "      <td>[ser, jorah, bind, woman, pyre, swore, obey]</td>\n",
              "    </tr>\n",
              "    <tr>\n",
              "      <th>3177</th>\n",
              "      <td>6/19/2011</td>\n",
              "      <td>Season 1</td>\n",
              "      <td>Episode 10</td>\n",
              "      <td>Fire and Blood</td>\n",
              "      <td>daenerys targaryen</td>\n",
              "      <td>I will. But it is not your screams I want. Onl...</td>\n",
              "      <td>House Targaryen</td>\n",
              "      <td>i will but it is not your screams i want only...</td>\n",
              "      <td>13</td>\n",
              "      <td>[i, will, but, it, is, not, your, screams, i, ...</td>\n",
              "      <td>[screams, want, life]</td>\n",
              "      <td>[scream, want, life]</td>\n",
              "    </tr>\n",
              "    <tr>\n",
              "      <th>3178</th>\n",
              "      <td>6/19/2011</td>\n",
              "      <td>Season 1</td>\n",
              "      <td>Episode 10</td>\n",
              "      <td>Fire and Blood</td>\n",
              "      <td>jorah mormont</td>\n",
              "      <td>Blood of my blood.</td>\n",
              "      <td>House Mormont</td>\n",
              "      <td>blood of my blood</td>\n",
              "      <td>4</td>\n",
              "      <td>[blood, of, my, blood]</td>\n",
              "      <td>[blood, blood]</td>\n",
              "      <td>[blood, blood]</td>\n",
              "    </tr>\n",
              "  </tbody>\n",
              "</table>\n",
              "</div>"
            ],
            "text/plain": [
              "     Release Date  ...                                   Stemmed_Sentence\n",
              "3173    6/19/2011  ...      [ask, stand, aside, climb, pyre, watch, burn]\n",
              "3174    6/19/2011  ...  [l, fear, khalasar, see, face, slave, free, ta...\n",
              "3175    6/19/2011  ...       [ser, jorah, bind, woman, pyre, swore, obey]\n",
              "3177    6/19/2011  ...                               [scream, want, life]\n",
              "3178    6/19/2011  ...                                     [blood, blood]\n",
              "\n",
              "[5 rows x 12 columns]"
            ]
          },
          "metadata": {
            "tags": []
          },
          "execution_count": 13
        }
      ]
    },
    {
      "cell_type": "code",
      "metadata": {
        "id": "DzKLVQ4f9bRK",
        "colab_type": "code",
        "outputId": "162300c5-b6e7-4451-fbf1-0105a664615e",
        "colab": {
          "base_uri": "https://localhost:8080/",
          "height": 124
        }
      },
      "source": [
        "#We will be using the Vader Sentiment analysis tool for sentiment analysis.\n",
        "#The function however works only on a string of sentence instead of a list of words (tokenized sentence)\n",
        "#Join the Tokenized Stemmed_Sentence into a string of sentence for the VADER sentiment analysis\n",
        "\n",
        "def convert_sentence (tokenized_sentence):\n",
        "  sentence=''\n",
        "  for word in tokenized_sentence:\n",
        "    sentence=sentence+\" \"+word\n",
        "  return sentence\n",
        "\n",
        "GOT1['Stemmed_Sentence_Non_Token']=GOT1['Stemmed_Sentence'].apply(lambda x:convert_sentence(x))\n",
        "\n",
        "GOT1['Stemmed_Sentence_Non_Token'].head()\n",
        "\n",
        "\n"
      ],
      "execution_count": 14,
      "outputs": [
        {
          "output_type": "execute_result",
          "data": {
            "text/plain": [
              "15     go father watching\n",
              "16                 mother\n",
              "18                  thank\n",
              "21        think much bran\n",
              "22          relax bow arm\n",
              "Name: Stemmed_Sentence_Non_Token, dtype: object"
            ]
          },
          "metadata": {
            "tags": []
          },
          "execution_count": 14
        }
      ]
    },
    {
      "cell_type": "code",
      "metadata": {
        "id": "ek4IbNjs6ob5",
        "colab_type": "code",
        "outputId": "597545c0-fafd-47b1-cc12-67405c68f67d",
        "colab": {
          "base_uri": "https://localhost:8080/",
          "height": 861
        }
      },
      "source": [
        "#Use Vader Sentiment analysis tool \n",
        "#Import a define a function for outputing the whole score output and only the compound score\n",
        "\n",
        "from nltk.sentiment.vader import SentimentIntensityAnalyzer\n",
        "sid=SentimentIntensityAnalyzer()\n",
        "\n",
        "GOT1['Sentiment']=GOT1['Stemmed_Sentence_Non_Token'].apply(lambda x:sid.polarity_scores(x))\n",
        "\n",
        "def compound_score(Sentiment):\n",
        "  return(Sentiment['compound'])\n",
        "\n",
        "GOT1['Sentiment_Compound_Score']=GOT1['Sentiment'].apply(lambda x:compound_score(x))\n",
        "GOT1.head(100)\n"
      ],
      "execution_count": 15,
      "outputs": [
        {
          "output_type": "stream",
          "text": [
            "/usr/local/lib/python3.6/dist-packages/nltk/twitter/__init__.py:20: UserWarning: The twython library has not been installed. Some functionality from the twitter package will not be available.\n",
            "  warnings.warn(\"The twython library has not been installed. \"\n"
          ],
          "name": "stderr"
        },
        {
          "output_type": "execute_result",
          "data": {
            "text/html": [
              "<div>\n",
              "<style scoped>\n",
              "    .dataframe tbody tr th:only-of-type {\n",
              "        vertical-align: middle;\n",
              "    }\n",
              "\n",
              "    .dataframe tbody tr th {\n",
              "        vertical-align: top;\n",
              "    }\n",
              "\n",
              "    .dataframe thead th {\n",
              "        text-align: right;\n",
              "    }\n",
              "</style>\n",
              "<table border=\"1\" class=\"dataframe\">\n",
              "  <thead>\n",
              "    <tr style=\"text-align: right;\">\n",
              "      <th></th>\n",
              "      <th>Release Date</th>\n",
              "      <th>Season</th>\n",
              "      <th>Episode</th>\n",
              "      <th>Episode Title</th>\n",
              "      <th>Name</th>\n",
              "      <th>Sentence</th>\n",
              "      <th>House</th>\n",
              "      <th>Sentences_Clean</th>\n",
              "      <th>Num_Words</th>\n",
              "      <th>Tokenized_Sentence</th>\n",
              "      <th>Tokenized_No_Stop</th>\n",
              "      <th>Stemmed_Sentence</th>\n",
              "      <th>Stemmed_Sentence_Non_Token</th>\n",
              "      <th>Sentiment</th>\n",
              "      <th>Sentiment_Compound_Score</th>\n",
              "    </tr>\n",
              "  </thead>\n",
              "  <tbody>\n",
              "    <tr>\n",
              "      <th>15</th>\n",
              "      <td>4/17/2011</td>\n",
              "      <td>Season 1</td>\n",
              "      <td>Episode 1</td>\n",
              "      <td>Winter is Coming</td>\n",
              "      <td>jon snow</td>\n",
              "      <td>Go on. Father's watching.</td>\n",
              "      <td>House Stark</td>\n",
              "      <td>go on fathers watching</td>\n",
              "      <td>4</td>\n",
              "      <td>[go, on, fathers, watching]</td>\n",
              "      <td>[go, fathers, watching]</td>\n",
              "      <td>[go, father, watching]</td>\n",
              "      <td>go father watching</td>\n",
              "      <td>{'neg': 0.0, 'neu': 1.0, 'pos': 0.0, 'compound...</td>\n",
              "      <td>0.0000</td>\n",
              "    </tr>\n",
              "    <tr>\n",
              "      <th>16</th>\n",
              "      <td>4/17/2011</td>\n",
              "      <td>Season 1</td>\n",
              "      <td>Episode 1</td>\n",
              "      <td>Winter is Coming</td>\n",
              "      <td>jon snow</td>\n",
              "      <td>And your mother.</td>\n",
              "      <td>House Stark</td>\n",
              "      <td>and your mother</td>\n",
              "      <td>3</td>\n",
              "      <td>[and, your, mother]</td>\n",
              "      <td>[mother]</td>\n",
              "      <td>[mother]</td>\n",
              "      <td>mother</td>\n",
              "      <td>{'neg': 0.0, 'neu': 1.0, 'pos': 0.0, 'compound...</td>\n",
              "      <td>0.0000</td>\n",
              "    </tr>\n",
              "    <tr>\n",
              "      <th>18</th>\n",
              "      <td>4/17/2011</td>\n",
              "      <td>Season 1</td>\n",
              "      <td>Episode 1</td>\n",
              "      <td>Winter is Coming</td>\n",
              "      <td>sansa stark</td>\n",
              "      <td>Thank you.</td>\n",
              "      <td>House Stark</td>\n",
              "      <td>thank you</td>\n",
              "      <td>2</td>\n",
              "      <td>[thank, you]</td>\n",
              "      <td>[thank]</td>\n",
              "      <td>[thank]</td>\n",
              "      <td>thank</td>\n",
              "      <td>{'neg': 0.0, 'neu': 0.0, 'pos': 1.0, 'compound...</td>\n",
              "      <td>0.3612</td>\n",
              "    </tr>\n",
              "    <tr>\n",
              "      <th>21</th>\n",
              "      <td>4/17/2011</td>\n",
              "      <td>Season 1</td>\n",
              "      <td>Episode 1</td>\n",
              "      <td>Winter is Coming</td>\n",
              "      <td>jon snow</td>\n",
              "      <td>Don't think too much, Bran.</td>\n",
              "      <td>House Stark</td>\n",
              "      <td>do not think too much bran</td>\n",
              "      <td>6</td>\n",
              "      <td>[do, not, think, too, much, bran]</td>\n",
              "      <td>[think, much, bran]</td>\n",
              "      <td>[think, much, bran]</td>\n",
              "      <td>think much bran</td>\n",
              "      <td>{'neg': 0.0, 'neu': 1.0, 'pos': 0.0, 'compound...</td>\n",
              "      <td>0.0000</td>\n",
              "    </tr>\n",
              "    <tr>\n",
              "      <th>22</th>\n",
              "      <td>4/17/2011</td>\n",
              "      <td>Season 1</td>\n",
              "      <td>Episode 1</td>\n",
              "      <td>Winter is Coming</td>\n",
              "      <td>robb stark</td>\n",
              "      <td>Relax your bow arm.</td>\n",
              "      <td>House Stark</td>\n",
              "      <td>relax your bow arm</td>\n",
              "      <td>4</td>\n",
              "      <td>[relax, your, bow, arm]</td>\n",
              "      <td>[relax, bow, arm]</td>\n",
              "      <td>[relax, bow, arm]</td>\n",
              "      <td>relax bow arm</td>\n",
              "      <td>{'neg': 0.0, 'neu': 0.408, 'pos': 0.592, 'comp...</td>\n",
              "      <td>0.4404</td>\n",
              "    </tr>\n",
              "    <tr>\n",
              "      <th>...</th>\n",
              "      <td>...</td>\n",
              "      <td>...</td>\n",
              "      <td>...</td>\n",
              "      <td>...</td>\n",
              "      <td>...</td>\n",
              "      <td>...</td>\n",
              "      <td>...</td>\n",
              "      <td>...</td>\n",
              "      <td>...</td>\n",
              "      <td>...</td>\n",
              "      <td>...</td>\n",
              "      <td>...</td>\n",
              "      <td>...</td>\n",
              "      <td>...</td>\n",
              "      <td>...</td>\n",
              "    </tr>\n",
              "    <tr>\n",
              "      <th>163</th>\n",
              "      <td>4/17/2011</td>\n",
              "      <td>Season 1</td>\n",
              "      <td>Episode 1</td>\n",
              "      <td>Winter is Coming</td>\n",
              "      <td>tyrion lannister</td>\n",
              "      <td>She has odd cravings, our sister.</td>\n",
              "      <td>House Lannister</td>\n",
              "      <td>she has odd cravings our sister</td>\n",
              "      <td>6</td>\n",
              "      <td>[she, has, odd, cravings, our, sister]</td>\n",
              "      <td>[odd, cravings, sister]</td>\n",
              "      <td>[odd, craving, sister]</td>\n",
              "      <td>odd craving sister</td>\n",
              "      <td>{'neg': 0.535, 'neu': 0.465, 'pos': 0.0, 'comp...</td>\n",
              "      <td>-0.3182</td>\n",
              "    </tr>\n",
              "    <tr>\n",
              "      <th>164</th>\n",
              "      <td>4/17/2011</td>\n",
              "      <td>Season 1</td>\n",
              "      <td>Episode 1</td>\n",
              "      <td>Winter is Coming</td>\n",
              "      <td>jaime lannister</td>\n",
              "      <td>A family trait. Now, the Starks are feasting u...</td>\n",
              "      <td>House Lannister</td>\n",
              "      <td>a family trait now the starks are feasting us...</td>\n",
              "      <td>19</td>\n",
              "      <td>[a, family, trait, now, the, starks, are, feas...</td>\n",
              "      <td>[family, trait, starks, feasting, us, sundown,...</td>\n",
              "      <td>[family, trait, starks, feasting, u, sundown, ...</td>\n",
              "      <td>family trait starks feasting u sundown leave ...</td>\n",
              "      <td>{'neg': 0.348, 'neu': 0.652, 'pos': 0.0, 'comp...</td>\n",
              "      <td>-0.2960</td>\n",
              "    </tr>\n",
              "    <tr>\n",
              "      <th>165</th>\n",
              "      <td>4/17/2011</td>\n",
              "      <td>Season 1</td>\n",
              "      <td>Episode 1</td>\n",
              "      <td>Winter is Coming</td>\n",
              "      <td>tyrion lannister</td>\n",
              "      <td>I'm sorry, I've begun the feast a bit early. A...</td>\n",
              "      <td>House Lannister</td>\n",
              "      <td>i am sorry i have begun the feast a bit early...</td>\n",
              "      <td>19</td>\n",
              "      <td>[i, am, sorry, i, have, begun, the, feast, a, ...</td>\n",
              "      <td>[sorry, begun, feast, bit, early, first, many,...</td>\n",
              "      <td>[sorry, begun, feast, bit, early, first, many,...</td>\n",
              "      <td>sorry begun feast bit early first many course</td>\n",
              "      <td>{'neg': 0.157, 'neu': 0.843, 'pos': 0.0, 'comp...</td>\n",
              "      <td>-0.0772</td>\n",
              "    </tr>\n",
              "    <tr>\n",
              "      <th>166</th>\n",
              "      <td>4/17/2011</td>\n",
              "      <td>Season 1</td>\n",
              "      <td>Episode 1</td>\n",
              "      <td>Winter is Coming</td>\n",
              "      <td>jaime lannister</td>\n",
              "      <td>I thought you might say that. But since we're ...</td>\n",
              "      <td>House Lannister</td>\n",
              "      <td>i thought you might say that but since we are...</td>\n",
              "      <td>20</td>\n",
              "      <td>[i, thought, you, might, say, that, but, since...</td>\n",
              "      <td>[thought, might, say, since, short, time, come...</td>\n",
              "      <td>[thought, might, say, since, short, time, come...</td>\n",
              "      <td>thought might say since short time come girl ...</td>\n",
              "      <td>{'neg': 0.0, 'neu': 1.0, 'pos': 0.0, 'compound...</td>\n",
              "      <td>0.0000</td>\n",
              "    </tr>\n",
              "    <tr>\n",
              "      <th>167</th>\n",
              "      <td>4/17/2011</td>\n",
              "      <td>Season 1</td>\n",
              "      <td>Episode 1</td>\n",
              "      <td>Winter is Coming</td>\n",
              "      <td>tyrion lannister</td>\n",
              "      <td>Close the door!</td>\n",
              "      <td>House Lannister</td>\n",
              "      <td>close the door</td>\n",
              "      <td>3</td>\n",
              "      <td>[close, the, door]</td>\n",
              "      <td>[close, door]</td>\n",
              "      <td>[close, door]</td>\n",
              "      <td>close door</td>\n",
              "      <td>{'neg': 0.0, 'neu': 1.0, 'pos': 0.0, 'compound...</td>\n",
              "      <td>0.0000</td>\n",
              "    </tr>\n",
              "  </tbody>\n",
              "</table>\n",
              "<p>100 rows × 15 columns</p>\n",
              "</div>"
            ],
            "text/plain": [
              "    Release Date  ... Sentiment_Compound_Score\n",
              "15     4/17/2011  ...                   0.0000\n",
              "16     4/17/2011  ...                   0.0000\n",
              "18     4/17/2011  ...                   0.3612\n",
              "21     4/17/2011  ...                   0.0000\n",
              "22     4/17/2011  ...                   0.4404\n",
              "..           ...  ...                      ...\n",
              "163    4/17/2011  ...                  -0.3182\n",
              "164    4/17/2011  ...                  -0.2960\n",
              "165    4/17/2011  ...                  -0.0772\n",
              "166    4/17/2011  ...                   0.0000\n",
              "167    4/17/2011  ...                   0.0000\n",
              "\n",
              "[100 rows x 15 columns]"
            ]
          },
          "metadata": {
            "tags": []
          },
          "execution_count": 15
        }
      ]
    },
    {
      "cell_type": "code",
      "metadata": {
        "id": "yijZWz2Agxx-",
        "colab_type": "code",
        "outputId": "25ba3cde-2672-46a1-bae7-c44454c3b691",
        "colab": {
          "base_uri": "https://localhost:8080/",
          "height": 664
        }
      },
      "source": [
        "#Set the character and house to category\n",
        "\n",
        "GOT1.info()\n",
        "GOT1['Name'].astype('category')\n",
        "GOT1['House'].astype('category')\n"
      ],
      "execution_count": 16,
      "outputs": [
        {
          "output_type": "stream",
          "text": [
            "<class 'pandas.core.frame.DataFrame'>\n",
            "Int64Index: 2120 entries, 15 to 3178\n",
            "Data columns (total 15 columns):\n",
            " #   Column                      Non-Null Count  Dtype  \n",
            "---  ------                      --------------  -----  \n",
            " 0   Release Date                2120 non-null   object \n",
            " 1   Season                      2120 non-null   object \n",
            " 2   Episode                     2120 non-null   object \n",
            " 3   Episode Title               2120 non-null   object \n",
            " 4   Name                        2120 non-null   object \n",
            " 5   Sentence                    2120 non-null   object \n",
            " 6   House                       2081 non-null   object \n",
            " 7   Sentences_Clean             2120 non-null   object \n",
            " 8   Num_Words                   2120 non-null   int64  \n",
            " 9   Tokenized_Sentence          2120 non-null   object \n",
            " 10  Tokenized_No_Stop           2120 non-null   object \n",
            " 11  Stemmed_Sentence            2120 non-null   object \n",
            " 12  Stemmed_Sentence_Non_Token  2120 non-null   object \n",
            " 13  Sentiment                   2120 non-null   object \n",
            " 14  Sentiment_Compound_Score    2120 non-null   float64\n",
            "dtypes: float64(1), int64(1), object(13)\n",
            "memory usage: 265.0+ KB\n"
          ],
          "name": "stdout"
        },
        {
          "output_type": "execute_result",
          "data": {
            "text/plain": [
              "15          House Stark\n",
              "16          House Stark\n",
              "18          House Stark\n",
              "21          House Stark\n",
              "22          House Stark\n",
              "             ...       \n",
              "3173      House Mormont\n",
              "3174    House Targaryen\n",
              "3175    House Targaryen\n",
              "3177    House Targaryen\n",
              "3178      House Mormont\n",
              "Name: House, Length: 2120, dtype: category\n",
              "Categories (17, object): [0, Dothraki, Free Folk, House Baelish, ..., House Tarly,\n",
              "                          House Trant, House Tyrell, Night's Watch]"
            ]
          },
          "metadata": {
            "tags": []
          },
          "execution_count": 16
        }
      ]
    },
    {
      "cell_type": "code",
      "metadata": {
        "id": "aI8nrePfiUr7",
        "colab_type": "code",
        "outputId": "0a9bfd97-af43-4b96-c2e8-4a29f01b0775",
        "colab": {
          "base_uri": "https://localhost:8080/",
          "height": 588
        }
      },
      "source": [
        "#A Pivot Table to Show mean Compiund_Score by House\n",
        "table=pd.pivot_table(GOT1,values='Sentiment_Compound_Score',index=['House'],aggfunc=['mean','count'])\n",
        "table\n"
      ],
      "execution_count": 17,
      "outputs": [
        {
          "output_type": "execute_result",
          "data": {
            "text/html": [
              "<div>\n",
              "<style scoped>\n",
              "    .dataframe tbody tr th:only-of-type {\n",
              "        vertical-align: middle;\n",
              "    }\n",
              "\n",
              "    .dataframe tbody tr th {\n",
              "        vertical-align: top;\n",
              "    }\n",
              "\n",
              "    .dataframe thead tr th {\n",
              "        text-align: left;\n",
              "    }\n",
              "\n",
              "    .dataframe thead tr:last-of-type th {\n",
              "        text-align: right;\n",
              "    }\n",
              "</style>\n",
              "<table border=\"1\" class=\"dataframe\">\n",
              "  <thead>\n",
              "    <tr>\n",
              "      <th></th>\n",
              "      <th>mean</th>\n",
              "      <th>count</th>\n",
              "    </tr>\n",
              "    <tr>\n",
              "      <th></th>\n",
              "      <th>Sentiment_Compound_Score</th>\n",
              "      <th>Sentiment_Compound_Score</th>\n",
              "    </tr>\n",
              "    <tr>\n",
              "      <th>House</th>\n",
              "      <th></th>\n",
              "      <th></th>\n",
              "    </tr>\n",
              "  </thead>\n",
              "  <tbody>\n",
              "    <tr>\n",
              "      <th>0</th>\n",
              "      <td>0.098985</td>\n",
              "      <td>119</td>\n",
              "    </tr>\n",
              "    <tr>\n",
              "      <th>Dothraki</th>\n",
              "      <td>-0.108385</td>\n",
              "      <td>13</td>\n",
              "    </tr>\n",
              "    <tr>\n",
              "      <th>Free Folk</th>\n",
              "      <td>0.064064</td>\n",
              "      <td>25</td>\n",
              "    </tr>\n",
              "    <tr>\n",
              "      <th>House Baelish</th>\n",
              "      <td>0.126756</td>\n",
              "      <td>112</td>\n",
              "    </tr>\n",
              "    <tr>\n",
              "      <th>House Baratheon</th>\n",
              "      <td>-0.064415</td>\n",
              "      <td>54</td>\n",
              "    </tr>\n",
              "    <tr>\n",
              "      <th>House Bronn</th>\n",
              "      <td>-0.003824</td>\n",
              "      <td>33</td>\n",
              "    </tr>\n",
              "    <tr>\n",
              "      <th>House Cassel</th>\n",
              "      <td>-0.127362</td>\n",
              "      <td>13</td>\n",
              "    </tr>\n",
              "    <tr>\n",
              "      <th>House Clegane</th>\n",
              "      <td>-0.095792</td>\n",
              "      <td>13</td>\n",
              "    </tr>\n",
              "    <tr>\n",
              "      <th>House Greyjoy</th>\n",
              "      <td>-0.038064</td>\n",
              "      <td>70</td>\n",
              "    </tr>\n",
              "    <tr>\n",
              "      <th>House Lannister</th>\n",
              "      <td>0.046368</td>\n",
              "      <td>564</td>\n",
              "    </tr>\n",
              "    <tr>\n",
              "      <th>House Mormont</th>\n",
              "      <td>0.079796</td>\n",
              "      <td>117</td>\n",
              "    </tr>\n",
              "    <tr>\n",
              "      <th>House Stark</th>\n",
              "      <td>0.011350</td>\n",
              "      <td>626</td>\n",
              "    </tr>\n",
              "    <tr>\n",
              "      <th>House Targaryen</th>\n",
              "      <td>0.035417</td>\n",
              "      <td>189</td>\n",
              "    </tr>\n",
              "    <tr>\n",
              "      <th>House Tarly</th>\n",
              "      <td>0.019794</td>\n",
              "      <td>54</td>\n",
              "    </tr>\n",
              "    <tr>\n",
              "      <th>House Trant</th>\n",
              "      <td>-0.282800</td>\n",
              "      <td>4</td>\n",
              "    </tr>\n",
              "    <tr>\n",
              "      <th>House Tyrell</th>\n",
              "      <td>-0.006087</td>\n",
              "      <td>23</td>\n",
              "    </tr>\n",
              "    <tr>\n",
              "      <th>Night's Watch</th>\n",
              "      <td>-0.115121</td>\n",
              "      <td>52</td>\n",
              "    </tr>\n",
              "  </tbody>\n",
              "</table>\n",
              "</div>"
            ],
            "text/plain": [
              "                                    mean                    count\n",
              "                Sentiment_Compound_Score Sentiment_Compound_Score\n",
              "House                                                            \n",
              "0                               0.098985                      119\n",
              "Dothraki                       -0.108385                       13\n",
              "Free Folk                       0.064064                       25\n",
              "House Baelish                   0.126756                      112\n",
              "House Baratheon                -0.064415                       54\n",
              "House Bronn                    -0.003824                       33\n",
              "House Cassel                   -0.127362                       13\n",
              "House Clegane                  -0.095792                       13\n",
              "House Greyjoy                  -0.038064                       70\n",
              "House Lannister                 0.046368                      564\n",
              "House Mormont                   0.079796                      117\n",
              "House Stark                     0.011350                      626\n",
              "House Targaryen                 0.035417                      189\n",
              "House Tarly                     0.019794                       54\n",
              "House Trant                    -0.282800                        4\n",
              "House Tyrell                   -0.006087                       23\n",
              "Night's Watch                  -0.115121                       52"
            ]
          },
          "metadata": {
            "tags": []
          },
          "execution_count": 17
        }
      ]
    },
    {
      "cell_type": "markdown",
      "metadata": {
        "id": "52L_ZjTWlGkO",
        "colab_type": "text"
      },
      "source": [
        "##Compound score ranges from -1 to 1 with -1 being most negative sentiment, 0 being most neutral, and 1 being most positive. As shown most houses' lines are very close to neutral except for some houses which are futher away. However, they also have lower number of lines as well. In general, characters from all different houses have relatively netural sentences in terms of sentiment. \n",
        "\n",
        "###The counts in the table also equates to number of lines spoken by each house, and for simplicity sake, we will only work with the top 4 houses for future analysis. That is **House Start, Mormont, Lannister, and Targaryen**.\n",
        "\n"
      ]
    },
    {
      "cell_type": "code",
      "metadata": {
        "id": "CQekypR8oox3",
        "colab_type": "code",
        "outputId": "2cff2cb7-1df2-4c2f-87f8-b8195364fab7",
        "colab": {
          "base_uri": "https://localhost:8080/",
          "height": 562
        }
      },
      "source": [
        "import seaborn as sns\n",
        "import matplotlib.pyplot as plt\n",
        "from scipy import stats\n",
        "\n",
        "#Plotting distributions \n",
        "House_Lannister=GOT1[GOT1.House=='House Lannister']\n",
        "House_Targaryen=GOT1[GOT1.House=='House Targaryen']\n",
        "House_Stark=GOT1[GOT1.House=='House Stark']\n",
        "House_Mormont=GOT1[GOT1.House=='House Mormont']\n",
        "\n",
        "# Will only focus on the four main houses Lannister, Targaryen, Stark, and Mormont\n",
        "\n",
        "sns.set({'figure.figsize':(11.7,8.27)})\n",
        "sns.set_style({'figure.facecolor':'white'})\n",
        "plt.xlabel('Sentiment Compound Score')\n",
        "plt.ylabel('Probaility Density')\n",
        "\n",
        "sns.distplot(House_Lannister[['Sentiment_Compound_Score']], hist=False, kde=True, label='Lannister')\n",
        "sns.distplot(House_Mormont[['Sentiment_Compound_Score']], hist=False, kde=True, label='Mormont')\n",
        "sns.distplot(House_Targaryen[['Sentiment_Compound_Score']], hist=False,kde=True,label='Targaryen')\n",
        "sns.distplot(House_Stark[['Sentiment_Compound_Score']], hist=False, kde=True,label='Stark')"
      ],
      "execution_count": 18,
      "outputs": [
        {
          "output_type": "stream",
          "text": [
            "/usr/local/lib/python3.6/dist-packages/statsmodels/tools/_testing.py:19: FutureWarning: pandas.util.testing is deprecated. Use the functions in the public API at pandas.testing instead.\n",
            "  import pandas.util.testing as tm\n"
          ],
          "name": "stderr"
        },
        {
          "output_type": "execute_result",
          "data": {
            "text/plain": [
              "<matplotlib.axes._subplots.AxesSubplot at 0x7f1340395dd8>"
            ]
          },
          "metadata": {
            "tags": []
          },
          "execution_count": 18
        },
        {
          "output_type": "display_data",
          "data": {
            "image/png": "[encoded data removed]",
            "text/plain": [
              "<Figure size 842.4x595.44 with 1 Axes>"
            ]
          },
          "metadata": {
            "tags": []
          }
        }
      ]
    },
    {
      "cell_type": "markdown",
      "metadata": {
        "id": "Y3XCAm2HZ0Z7",
        "colab_type": "text"
      },
      "source": [
        "## As can seen from the above, there doesn't seem to be clear distinct separation in the sentiment distribution. But there is some standard deviation differences between them. We will analyze the standard deviation below.\n"
      ]
    },
    {
      "cell_type": "code",
      "metadata": {
        "id": "cFaYifIectKL",
        "colab_type": "code",
        "outputId": "cb5cc7f9-23c2-4bfe-d821-e0a7bd4b0bec",
        "colab": {
          "base_uri": "https://localhost:8080/",
          "height": 217
        }
      },
      "source": [
        "#A Pivot Table to Show mean and standard deviation Compiund_Score by House only for the four houses of interest\n",
        "\n",
        "table=pd.pivot_table(GOT1[GOT1['House'].isin(['House Lannister', 'House Stark','House Targaryen', 'House Mormont'])],values='Sentiment_Compound_Score',index=['House'],aggfunc=['mean','std','count'])\n",
        "table\n"
      ],
      "execution_count": 19,
      "outputs": [
        {
          "output_type": "execute_result",
          "data": {
            "text/html": [
              "<div>\n",
              "<style scoped>\n",
              "    .dataframe tbody tr th:only-of-type {\n",
              "        vertical-align: middle;\n",
              "    }\n",
              "\n",
              "    .dataframe tbody tr th {\n",
              "        vertical-align: top;\n",
              "    }\n",
              "\n",
              "    .dataframe thead tr th {\n",
              "        text-align: left;\n",
              "    }\n",
              "\n",
              "    .dataframe thead tr:last-of-type th {\n",
              "        text-align: right;\n",
              "    }\n",
              "</style>\n",
              "<table border=\"1\" class=\"dataframe\">\n",
              "  <thead>\n",
              "    <tr>\n",
              "      <th></th>\n",
              "      <th>mean</th>\n",
              "      <th>std</th>\n",
              "      <th>count</th>\n",
              "    </tr>\n",
              "    <tr>\n",
              "      <th></th>\n",
              "      <th>Sentiment_Compound_Score</th>\n",
              "      <th>Sentiment_Compound_Score</th>\n",
              "      <th>Sentiment_Compound_Score</th>\n",
              "    </tr>\n",
              "    <tr>\n",
              "      <th>House</th>\n",
              "      <th></th>\n",
              "      <th></th>\n",
              "      <th></th>\n",
              "    </tr>\n",
              "  </thead>\n",
              "  <tbody>\n",
              "    <tr>\n",
              "      <th>House Lannister</th>\n",
              "      <td>0.046368</td>\n",
              "      <td>0.406960</td>\n",
              "      <td>564</td>\n",
              "    </tr>\n",
              "    <tr>\n",
              "      <th>House Mormont</th>\n",
              "      <td>0.079796</td>\n",
              "      <td>0.364912</td>\n",
              "      <td>117</td>\n",
              "    </tr>\n",
              "    <tr>\n",
              "      <th>House Stark</th>\n",
              "      <td>0.011350</td>\n",
              "      <td>0.340461</td>\n",
              "      <td>626</td>\n",
              "    </tr>\n",
              "    <tr>\n",
              "      <th>House Targaryen</th>\n",
              "      <td>0.035417</td>\n",
              "      <td>0.334294</td>\n",
              "      <td>189</td>\n",
              "    </tr>\n",
              "  </tbody>\n",
              "</table>\n",
              "</div>"
            ],
            "text/plain": [
              "                                    mean  ...                    count\n",
              "                Sentiment_Compound_Score  ... Sentiment_Compound_Score\n",
              "House                                     ...                         \n",
              "House Lannister                 0.046368  ...                      564\n",
              "House Mormont                   0.079796  ...                      117\n",
              "House Stark                     0.011350  ...                      626\n",
              "House Targaryen                 0.035417  ...                      189\n",
              "\n",
              "[4 rows x 3 columns]"
            ]
          },
          "metadata": {
            "tags": []
          },
          "execution_count": 19
        }
      ]
    },
    {
      "cell_type": "markdown",
      "metadata": {
        "id": "on04_eTigxrS",
        "colab_type": "text"
      },
      "source": [
        "###House Lannister has the highest spread in sentiment compared to the other houses. However, they all seem to have relatively close spread.\n",
        "\n",
        "\n"
      ]
    },
    {
      "cell_type": "code",
      "metadata": {
        "id": "aneI1NLGUnXe",
        "colab_type": "code",
        "outputId": "8b8b13e7-1c23-4ba2-b1ac-badd6a8ec3c0",
        "colab": {
          "base_uri": "https://localhost:8080/",
          "height": 189
        }
      },
      "source": [
        "#For ease of processing later, we will redefine a dataframe called GOT1TopHouses with only data of interest for later ML processing\n",
        "GOT1TopHouses=GOT1[GOT1['House'].isin(['House Lannister', 'House Stark','House Targaryen', 'House Mormont'])]\n",
        "GOT1TopHouses.head(5)"
      ],
      "execution_count": 20,
      "outputs": [
        {
          "output_type": "execute_result",
          "data": {
            "text/html": [
              "<div>\n",
              "<style scoped>\n",
              "    .dataframe tbody tr th:only-of-type {\n",
              "        vertical-align: middle;\n",
              "    }\n",
              "\n",
              "    .dataframe tbody tr th {\n",
              "        vertical-align: top;\n",
              "    }\n",
              "\n",
              "    .dataframe thead th {\n",
              "        text-align: right;\n",
              "    }\n",
              "</style>\n",
              "<table border=\"1\" class=\"dataframe\">\n",
              "  <thead>\n",
              "    <tr style=\"text-align: right;\">\n",
              "      <th></th>\n",
              "      <th>Release Date</th>\n",
              "      <th>Season</th>\n",
              "      <th>Episode</th>\n",
              "      <th>Episode Title</th>\n",
              "      <th>Name</th>\n",
              "      <th>Sentence</th>\n",
              "      <th>House</th>\n",
              "      <th>Sentences_Clean</th>\n",
              "      <th>Num_Words</th>\n",
              "      <th>Tokenized_Sentence</th>\n",
              "      <th>Tokenized_No_Stop</th>\n",
              "      <th>Stemmed_Sentence</th>\n",
              "      <th>Stemmed_Sentence_Non_Token</th>\n",
              "      <th>Sentiment</th>\n",
              "      <th>Sentiment_Compound_Score</th>\n",
              "    </tr>\n",
              "  </thead>\n",
              "  <tbody>\n",
              "    <tr>\n",
              "      <th>15</th>\n",
              "      <td>4/17/2011</td>\n",
              "      <td>Season 1</td>\n",
              "      <td>Episode 1</td>\n",
              "      <td>Winter is Coming</td>\n",
              "      <td>jon snow</td>\n",
              "      <td>Go on. Father's watching.</td>\n",
              "      <td>House Stark</td>\n",
              "      <td>go on fathers watching</td>\n",
              "      <td>4</td>\n",
              "      <td>[go, on, fathers, watching]</td>\n",
              "      <td>[go, fathers, watching]</td>\n",
              "      <td>[go, father, watching]</td>\n",
              "      <td>go father watching</td>\n",
              "      <td>{'neg': 0.0, 'neu': 1.0, 'pos': 0.0, 'compound...</td>\n",
              "      <td>0.0000</td>\n",
              "    </tr>\n",
              "    <tr>\n",
              "      <th>16</th>\n",
              "      <td>4/17/2011</td>\n",
              "      <td>Season 1</td>\n",
              "      <td>Episode 1</td>\n",
              "      <td>Winter is Coming</td>\n",
              "      <td>jon snow</td>\n",
              "      <td>And your mother.</td>\n",
              "      <td>House Stark</td>\n",
              "      <td>and your mother</td>\n",
              "      <td>3</td>\n",
              "      <td>[and, your, mother]</td>\n",
              "      <td>[mother]</td>\n",
              "      <td>[mother]</td>\n",
              "      <td>mother</td>\n",
              "      <td>{'neg': 0.0, 'neu': 1.0, 'pos': 0.0, 'compound...</td>\n",
              "      <td>0.0000</td>\n",
              "    </tr>\n",
              "    <tr>\n",
              "      <th>18</th>\n",
              "      <td>4/17/2011</td>\n",
              "      <td>Season 1</td>\n",
              "      <td>Episode 1</td>\n",
              "      <td>Winter is Coming</td>\n",
              "      <td>sansa stark</td>\n",
              "      <td>Thank you.</td>\n",
              "      <td>House Stark</td>\n",
              "      <td>thank you</td>\n",
              "      <td>2</td>\n",
              "      <td>[thank, you]</td>\n",
              "      <td>[thank]</td>\n",
              "      <td>[thank]</td>\n",
              "      <td>thank</td>\n",
              "      <td>{'neg': 0.0, 'neu': 0.0, 'pos': 1.0, 'compound...</td>\n",
              "      <td>0.3612</td>\n",
              "    </tr>\n",
              "    <tr>\n",
              "      <th>21</th>\n",
              "      <td>4/17/2011</td>\n",
              "      <td>Season 1</td>\n",
              "      <td>Episode 1</td>\n",
              "      <td>Winter is Coming</td>\n",
              "      <td>jon snow</td>\n",
              "      <td>Don't think too much, Bran.</td>\n",
              "      <td>House Stark</td>\n",
              "      <td>do not think too much bran</td>\n",
              "      <td>6</td>\n",
              "      <td>[do, not, think, too, much, bran]</td>\n",
              "      <td>[think, much, bran]</td>\n",
              "      <td>[think, much, bran]</td>\n",
              "      <td>think much bran</td>\n",
              "      <td>{'neg': 0.0, 'neu': 1.0, 'pos': 0.0, 'compound...</td>\n",
              "      <td>0.0000</td>\n",
              "    </tr>\n",
              "    <tr>\n",
              "      <th>22</th>\n",
              "      <td>4/17/2011</td>\n",
              "      <td>Season 1</td>\n",
              "      <td>Episode 1</td>\n",
              "      <td>Winter is Coming</td>\n",
              "      <td>robb stark</td>\n",
              "      <td>Relax your bow arm.</td>\n",
              "      <td>House Stark</td>\n",
              "      <td>relax your bow arm</td>\n",
              "      <td>4</td>\n",
              "      <td>[relax, your, bow, arm]</td>\n",
              "      <td>[relax, bow, arm]</td>\n",
              "      <td>[relax, bow, arm]</td>\n",
              "      <td>relax bow arm</td>\n",
              "      <td>{'neg': 0.0, 'neu': 0.408, 'pos': 0.592, 'comp...</td>\n",
              "      <td>0.4404</td>\n",
              "    </tr>\n",
              "  </tbody>\n",
              "</table>\n",
              "</div>"
            ],
            "text/plain": [
              "   Release Date  ... Sentiment_Compound_Score\n",
              "15    4/17/2011  ...                   0.0000\n",
              "16    4/17/2011  ...                   0.0000\n",
              "18    4/17/2011  ...                   0.3612\n",
              "21    4/17/2011  ...                   0.0000\n",
              "22    4/17/2011  ...                   0.4404\n",
              "\n",
              "[5 rows x 15 columns]"
            ]
          },
          "metadata": {
            "tags": []
          },
          "execution_count": 20
        }
      ]
    },
    {
      "cell_type": "markdown",
      "metadata": {
        "id": "zALasHAYOwhj",
        "colab_type": "text"
      },
      "source": [
        "#Before we proceed with Machine Learning Model predicting whose house line it is, we need to extract more attributes other than sentiment score.\n",
        "\n",
        "##We want attributes based on each house's favourite word. Thus we will first compile a list of favourite words for each house of interest (for the four houses mentioned above)"
      ]
    },
    {
      "cell_type": "code",
      "metadata": {
        "id": "U_VSHks4Ryjb",
        "colab_type": "code",
        "outputId": "8994213c-379a-4e83-84f6-ff5cdf8e7857",
        "colab": {
          "base_uri": "https://localhost:8080/",
          "height": 359
        }
      },
      "source": [
        "# First we find the number of words spoken by each top four houses in Season 1\n",
        "GOT1HouseData = pd.pivot_table(GOT1, values = 'Num_Words', index = 'House', aggfunc=np.sum)\n",
        "GOT1HouseData = GOT1HouseData.sort_values('Num_Words') #find Houses with the most words said\n",
        "GOT1_TopHousesData = GOT1HouseData.tail(10)\n",
        "\n",
        "GOT1_TopHousesData = pd.DataFrame(GOT1_TopHousesData.to_records()) #convert into a dataframe\n",
        "GOT1_TopHousesData"
      ],
      "execution_count": 21,
      "outputs": [
        {
          "output_type": "execute_result",
          "data": {
            "text/html": [
              "<div>\n",
              "<style scoped>\n",
              "    .dataframe tbody tr th:only-of-type {\n",
              "        vertical-align: middle;\n",
              "    }\n",
              "\n",
              "    .dataframe tbody tr th {\n",
              "        vertical-align: top;\n",
              "    }\n",
              "\n",
              "    .dataframe thead th {\n",
              "        text-align: right;\n",
              "    }\n",
              "</style>\n",
              "<table border=\"1\" class=\"dataframe\">\n",
              "  <thead>\n",
              "    <tr style=\"text-align: right;\">\n",
              "      <th></th>\n",
              "      <th>House</th>\n",
              "      <th>Num_Words</th>\n",
              "    </tr>\n",
              "  </thead>\n",
              "  <tbody>\n",
              "    <tr>\n",
              "      <th>0</th>\n",
              "      <td>House Tarly</td>\n",
              "      <td>629</td>\n",
              "    </tr>\n",
              "    <tr>\n",
              "      <th>1</th>\n",
              "      <td>House Greyjoy</td>\n",
              "      <td>735</td>\n",
              "    </tr>\n",
              "    <tr>\n",
              "      <th>2</th>\n",
              "      <td>Night's Watch</td>\n",
              "      <td>738</td>\n",
              "    </tr>\n",
              "    <tr>\n",
              "      <th>3</th>\n",
              "      <td>House Baratheon</td>\n",
              "      <td>746</td>\n",
              "    </tr>\n",
              "    <tr>\n",
              "      <th>4</th>\n",
              "      <td>House Mormont</td>\n",
              "      <td>1577</td>\n",
              "    </tr>\n",
              "    <tr>\n",
              "      <th>5</th>\n",
              "      <td>0</td>\n",
              "      <td>1599</td>\n",
              "    </tr>\n",
              "    <tr>\n",
              "      <th>6</th>\n",
              "      <td>House Baelish</td>\n",
              "      <td>1753</td>\n",
              "    </tr>\n",
              "    <tr>\n",
              "      <th>7</th>\n",
              "      <td>House Targaryen</td>\n",
              "      <td>1830</td>\n",
              "    </tr>\n",
              "    <tr>\n",
              "      <th>8</th>\n",
              "      <td>House Stark</td>\n",
              "      <td>5601</td>\n",
              "    </tr>\n",
              "    <tr>\n",
              "      <th>9</th>\n",
              "      <td>House Lannister</td>\n",
              "      <td>8635</td>\n",
              "    </tr>\n",
              "  </tbody>\n",
              "</table>\n",
              "</div>"
            ],
            "text/plain": [
              "             House  Num_Words\n",
              "0      House Tarly        629\n",
              "1    House Greyjoy        735\n",
              "2    Night's Watch        738\n",
              "3  House Baratheon        746\n",
              "4    House Mormont       1577\n",
              "5                0       1599\n",
              "6    House Baelish       1753\n",
              "7  House Targaryen       1830\n",
              "8      House Stark       5601\n",
              "9  House Lannister       8635"
            ]
          },
          "metadata": {
            "tags": []
          },
          "execution_count": 21
        }
      ]
    },
    {
      "cell_type": "code",
      "metadata": {
        "id": "83MDNTE3Qnrc",
        "colab_type": "code",
        "colab": {}
      },
      "source": [
        "# These are the same functions used in the whole season data analysis protion of this project. \n",
        "# Create a list of words based on house and create a dictionary with the key being the word spoken and value ebing the frequency it was spoken\n",
        "\n",
        "#define a function, house_words, that appends all tokenized_no_stop words for a chosen character in the form of a list\n",
        "def house_words(house):\n",
        "    l = []\n",
        "    for index, row in GOT1TopHouses.iterrows():\n",
        "        if house in row.House:\n",
        "            l = l + row.Tokenized_No_Stop\n",
        "    return l\n",
        "\n",
        "#define a function, house_most_freq, that takes a house and outputs the listing of words spoken & number of times they were spoken\n",
        "#only find the top 100 words\n",
        "def house_most_freq(s):\n",
        "    wordlist = house_words(s) #get the list of words said for the house\n",
        "    word_dict = {} #create dictionary to track count of unique words\n",
        "    for i in wordlist:\n",
        "        if i in word_dict.keys():\n",
        "            word_dict[i] = word_dict[i] + 1\n",
        "        else:\n",
        "            word_dict[i] = 1\n",
        "    freq = sorted(word_dict.items(), key=lambda x: x[1], reverse=True) #sort by value\n",
        "    word_list=[i1 for i1,i2 in freq]\n",
        "    #output only the 100 words\n",
        "    return freq[0:100]\n"
      ],
      "execution_count": 0,
      "outputs": []
    },
    {
      "cell_type": "markdown",
      "metadata": {
        "id": "R--SkXYT_2Ln",
        "colab_type": "text"
      },
      "source": [
        "## Below shows 5 most spoken words for each house and the number of times each was said in season one.\n"
      ]
    },
    {
      "cell_type": "code",
      "metadata": {
        "id": "jyaf3ZOC8ree",
        "colab_type": "code",
        "outputId": "9b208152-88d3-40cb-b1c9-969d24ed7dc9",
        "colab": {
          "base_uri": "https://localhost:8080/",
          "height": 34
        }
      },
      "source": [
        "house_most_freq('House Lannister')[0:5]"
      ],
      "execution_count": 23,
      "outputs": [
        {
          "output_type": "execute_result",
          "data": {
            "text/plain": [
              "[('would', 43), ('lord', 40), ('stark', 37), ('king', 33), ('us', 30)]"
            ]
          },
          "metadata": {
            "tags": []
          },
          "execution_count": 23
        }
      ]
    },
    {
      "cell_type": "code",
      "metadata": {
        "id": "TI3RGw-0-W3i",
        "colab_type": "code",
        "outputId": "ba8040bd-0846-49ba-d0bb-2853918a2d3f",
        "colab": {
          "base_uri": "https://localhost:8080/",
          "height": 34
        }
      },
      "source": [
        "house_most_freq('House Targaryen')[0:5]"
      ],
      "execution_count": 24,
      "outputs": [
        {
          "output_type": "execute_result",
          "data": {
            "text/plain": [
              "[('khaleesi', 26), ('dragon', 12), ('want', 11), ('know', 9), ('men', 9)]"
            ]
          },
          "metadata": {
            "tags": []
          },
          "execution_count": 24
        }
      ]
    },
    {
      "cell_type": "code",
      "metadata": {
        "id": "LjbxPkwD-esZ",
        "colab_type": "code",
        "outputId": "8c017e35-ed95-4f74-8a6b-b345b2eb6c6d",
        "colab": {
          "base_uri": "https://localhost:8080/",
          "height": 34
        }
      },
      "source": [
        "house_most_freq('House Stark')[0:5]"
      ],
      "execution_count": 25,
      "outputs": [
        {
          "output_type": "execute_result",
          "data": {
            "text/plain": [
              "[('father', 39), ('would', 36), ('lord', 35), ('know', 31), ('want', 30)]"
            ]
          },
          "metadata": {
            "tags": []
          },
          "execution_count": 25
        }
      ]
    },
    {
      "cell_type": "code",
      "metadata": {
        "id": "liTjhUU1-ney",
        "colab_type": "code",
        "outputId": "96187067-60de-4a64-f85a-d043a5bcf7d5",
        "colab": {
          "base_uri": "https://localhost:8080/",
          "height": 34
        }
      },
      "source": [
        "house_most_freq('House Mormont')[0:5]"
      ],
      "execution_count": 26,
      "outputs": [
        {
          "output_type": "execute_result",
          "data": {
            "text/plain": [
              "[('khaleesi', 12), ('man', 8), ('good', 7), ('think', 7), ('dothraki', 6)]"
            ]
          },
          "metadata": {
            "tags": []
          },
          "execution_count": 26
        }
      ]
    },
    {
      "cell_type": "markdown",
      "metadata": {
        "id": "FmAV1bGWAHer",
        "colab_type": "text"
      },
      "source": [
        "### Other than the some general worlds I and would, most houses have relatively distinct word choices:\n",
        "* ### Lannister has Lord, Stark, and king\n",
        "* ### Targaryen: Khalessi, Dragon, Want, Know\n",
        "* ### Stark: Father, Lord, I, Know\n",
        "* ### Mormont: Khalessi, Man, Good, Think\n",
        "\n"
      ]
    },
    {
      "cell_type": "markdown",
      "metadata": {
        "id": "LdMxrx_FBJYs",
        "colab_type": "text"
      },
      "source": [
        "### Now we will create a word choice rscorefor each house of interest (thus 4 attributes). Each line will have a specific house ranking calculated as follows: \n",
        "### word_score=frequncy_of_that_word/total number of words spoken by that house\n",
        "### House_word_prob=sum(word_score)/number_of_words in that sentence\n"
      ]
    },
    {
      "cell_type": "code",
      "metadata": {
        "id": "QqaTTQEO1JOX",
        "colab_type": "code",
        "colab": {}
      },
      "source": [
        "#Define a function that calculates the word score in each house which shows how popular it is.\n",
        "\n",
        "def house_word_score(house,sentence):\n",
        "  word_list, freq_list=zip(*house_most_freq(house))\n",
        "  house_num_words=int(GOT1_TopHousesData[GOT1_TopHousesData['House']==house].Num_Words)\n",
        "  score_sum=0\n",
        "  for word in sentence:\n",
        "    try:\n",
        "      word_score=freq_list[word_list.index(word)]/house_num_words\n",
        "      score_sum=score_sum+word_score\n",
        "    except:\n",
        "      pass\n",
        "  try:\n",
        "    return score_sum/(len(sentence))\n",
        "  except:\n",
        "    return 0\n"
      ],
      "execution_count": 0,
      "outputs": []
    },
    {
      "cell_type": "code",
      "metadata": {
        "id": "ihIfaK7xIJKB",
        "colab_type": "code",
        "colab": {}
      },
      "source": [
        "'''\n",
        "#Applying that to every line in the GOT1TopHouse dataframe to create 4 attributes for each house\n",
        "GOT1TopHouses['Lannister_Word_Score']=GOT1TopHouses.Stemmed_Sentence.apply(lambda x:house_word_score('House Lannister',x))\n",
        "GOT1TopHouses['Stark_Word_Score']=GOT1TopHouses.Stemmed_Sentence.apply(lambda x:house_word_score('House Stark',x))\n",
        "GOT1TopHouses['Targaryen_Word_Score']=GOT1TopHouses.Stemmed_Sentence.apply(lambda x:house_word_score('House Targaryen',x))\n",
        "GOT1TopHouses['Mormont_Word_Score']=GOT1TopHouses.Stemmed_Sentence.apply(lambda x:house_word_score('House Mormont',x))\n",
        "'''\n",
        "\n",
        "#The above processing takes too long so we will just import an already processed csv file below\n",
        "GOT1TopHouses_2=pd.read_csv('https://raw.githubusercontent.com/trong-shen/Game-of-Throne-Project/master/GOT1TopHouses.csv')\n"
      ],
      "execution_count": 0,
      "outputs": []
    },
    {
      "cell_type": "code",
      "metadata": {
        "id": "zP6qN6w7FkwU",
        "colab_type": "code",
        "outputId": "9bd135e1-173f-48b0-e314-dfa0c25fbf57",
        "colab": {
          "base_uri": "https://localhost:8080/",
          "height": 513
        }
      },
      "source": [
        "GOT1TopHouses_2.head(10)"
      ],
      "execution_count": 30,
      "outputs": [
        {
          "output_type": "execute_result",
          "data": {
            "text/html": [
              "<div>\n",
              "<style scoped>\n",
              "    .dataframe tbody tr th:only-of-type {\n",
              "        vertical-align: middle;\n",
              "    }\n",
              "\n",
              "    .dataframe tbody tr th {\n",
              "        vertical-align: top;\n",
              "    }\n",
              "\n",
              "    .dataframe thead th {\n",
              "        text-align: right;\n",
              "    }\n",
              "</style>\n",
              "<table border=\"1\" class=\"dataframe\">\n",
              "  <thead>\n",
              "    <tr style=\"text-align: right;\">\n",
              "      <th></th>\n",
              "      <th>Unnamed: 0</th>\n",
              "      <th>Unnamed: 0.1</th>\n",
              "      <th>Release Date</th>\n",
              "      <th>Season</th>\n",
              "      <th>Episode</th>\n",
              "      <th>Episode Title</th>\n",
              "      <th>Name</th>\n",
              "      <th>Sentence</th>\n",
              "      <th>House</th>\n",
              "      <th>Sentences_Clean</th>\n",
              "      <th>Num_Words</th>\n",
              "      <th>Tokenized_Sentence</th>\n",
              "      <th>Tokenized_No_Stop</th>\n",
              "      <th>Stemmed_Sentence</th>\n",
              "      <th>Stemmed_Sentence_Non_Token</th>\n",
              "      <th>Sentiment</th>\n",
              "      <th>Sentiment_Compound_Score</th>\n",
              "      <th>Lannister_Word_Score</th>\n",
              "      <th>Stark_Word_Score</th>\n",
              "      <th>Targaryen_Word_Score</th>\n",
              "      <th>Mormont_Word_Score</th>\n",
              "    </tr>\n",
              "  </thead>\n",
              "  <tbody>\n",
              "    <tr>\n",
              "      <th>0</th>\n",
              "      <td>0</td>\n",
              "      <td>15</td>\n",
              "      <td>4/17/2011</td>\n",
              "      <td>Season 1</td>\n",
              "      <td>Episode 1</td>\n",
              "      <td>Winter is Coming</td>\n",
              "      <td>jon snow</td>\n",
              "      <td>Go on. Father's watching.</td>\n",
              "      <td>House Stark</td>\n",
              "      <td>go on fathers watching</td>\n",
              "      <td>4</td>\n",
              "      <td>['go', 'on', 'fathers', 'watching']</td>\n",
              "      <td>['go', 'fathers', 'watching']</td>\n",
              "      <td>['go', 'father', 'watching']</td>\n",
              "      <td>go father watching</td>\n",
              "      <td>{'neg': 0.0, 'neu': 1.0, 'pos': 0.0, 'compound...</td>\n",
              "      <td>0.0000</td>\n",
              "      <td>0.001621</td>\n",
              "      <td>0.003868</td>\n",
              "      <td>0.000546</td>\n",
              "      <td>0.001480</td>\n",
              "    </tr>\n",
              "    <tr>\n",
              "      <th>1</th>\n",
              "      <td>1</td>\n",
              "      <td>16</td>\n",
              "      <td>4/17/2011</td>\n",
              "      <td>Season 1</td>\n",
              "      <td>Episode 1</td>\n",
              "      <td>Winter is Coming</td>\n",
              "      <td>jon snow</td>\n",
              "      <td>And your mother.</td>\n",
              "      <td>House Stark</td>\n",
              "      <td>and your mother</td>\n",
              "      <td>3</td>\n",
              "      <td>['and', 'your', 'mother']</td>\n",
              "      <td>['mother']</td>\n",
              "      <td>['mother']</td>\n",
              "      <td>mother</td>\n",
              "      <td>{'neg': 0.0, 'neu': 1.0, 'pos': 0.0, 'compound...</td>\n",
              "      <td>0.0000</td>\n",
              "      <td>0.001390</td>\n",
              "      <td>0.001785</td>\n",
              "      <td>0.000000</td>\n",
              "      <td>0.000000</td>\n",
              "    </tr>\n",
              "    <tr>\n",
              "      <th>2</th>\n",
              "      <td>2</td>\n",
              "      <td>18</td>\n",
              "      <td>4/17/2011</td>\n",
              "      <td>Season 1</td>\n",
              "      <td>Episode 1</td>\n",
              "      <td>Winter is Coming</td>\n",
              "      <td>sansa stark</td>\n",
              "      <td>Thank you.</td>\n",
              "      <td>House Stark</td>\n",
              "      <td>thank you</td>\n",
              "      <td>2</td>\n",
              "      <td>['thank', 'you']</td>\n",
              "      <td>['thank']</td>\n",
              "      <td>['thank']</td>\n",
              "      <td>thank</td>\n",
              "      <td>{'neg': 0.0, 'neu': 0.0, 'pos': 1.0, 'compound...</td>\n",
              "      <td>0.3612</td>\n",
              "      <td>0.000000</td>\n",
              "      <td>0.000893</td>\n",
              "      <td>0.001639</td>\n",
              "      <td>0.000000</td>\n",
              "    </tr>\n",
              "    <tr>\n",
              "      <th>3</th>\n",
              "      <td>3</td>\n",
              "      <td>21</td>\n",
              "      <td>4/17/2011</td>\n",
              "      <td>Season 1</td>\n",
              "      <td>Episode 1</td>\n",
              "      <td>Winter is Coming</td>\n",
              "      <td>jon snow</td>\n",
              "      <td>Don't think too much, Bran.</td>\n",
              "      <td>House Stark</td>\n",
              "      <td>do not think too much bran</td>\n",
              "      <td>6</td>\n",
              "      <td>['do', 'not', 'think', 'too', 'much', 'bran']</td>\n",
              "      <td>['think', 'much', 'bran']</td>\n",
              "      <td>['think', 'much', 'bran']</td>\n",
              "      <td>think much bran</td>\n",
              "      <td>{'neg': 0.0, 'neu': 1.0, 'pos': 0.0, 'compound...</td>\n",
              "      <td>0.0000</td>\n",
              "      <td>0.000926</td>\n",
              "      <td>0.001666</td>\n",
              "      <td>0.000546</td>\n",
              "      <td>0.001480</td>\n",
              "    </tr>\n",
              "    <tr>\n",
              "      <th>4</th>\n",
              "      <td>4</td>\n",
              "      <td>22</td>\n",
              "      <td>4/17/2011</td>\n",
              "      <td>Season 1</td>\n",
              "      <td>Episode 1</td>\n",
              "      <td>Winter is Coming</td>\n",
              "      <td>robb stark</td>\n",
              "      <td>Relax your bow arm.</td>\n",
              "      <td>House Stark</td>\n",
              "      <td>relax your bow arm</td>\n",
              "      <td>4</td>\n",
              "      <td>['relax', 'your', 'bow', 'arm']</td>\n",
              "      <td>['relax', 'bow', 'arm']</td>\n",
              "      <td>['relax', 'bow', 'arm']</td>\n",
              "      <td>relax bow arm</td>\n",
              "      <td>{'neg': 0.0, 'neu': 0.408, 'pos': 0.592, 'comp...</td>\n",
              "      <td>0.4404</td>\n",
              "      <td>0.000000</td>\n",
              "      <td>0.000000</td>\n",
              "      <td>0.000000</td>\n",
              "      <td>0.000000</td>\n",
              "    </tr>\n",
              "    <tr>\n",
              "      <th>5</th>\n",
              "      <td>5</td>\n",
              "      <td>23</td>\n",
              "      <td>4/17/2011</td>\n",
              "      <td>Season 1</td>\n",
              "      <td>Episode 1</td>\n",
              "      <td>Winter is Coming</td>\n",
              "      <td>robb stark</td>\n",
              "      <td>Quick, Bran, faster!</td>\n",
              "      <td>House Stark</td>\n",
              "      <td>quick bran faster</td>\n",
              "      <td>3</td>\n",
              "      <td>['quick', 'bran', 'faster']</td>\n",
              "      <td>['quick', 'bran', 'faster']</td>\n",
              "      <td>['quick', 'bran', 'faster']</td>\n",
              "      <td>quick bran faster</td>\n",
              "      <td>{'neg': 0.0, 'neu': 1.0, 'pos': 0.0, 'compound...</td>\n",
              "      <td>0.0000</td>\n",
              "      <td>0.000000</td>\n",
              "      <td>0.000774</td>\n",
              "      <td>0.000000</td>\n",
              "      <td>0.000000</td>\n",
              "    </tr>\n",
              "    <tr>\n",
              "      <th>6</th>\n",
              "      <td>6</td>\n",
              "      <td>26</td>\n",
              "      <td>4/17/2011</td>\n",
              "      <td>Season 1</td>\n",
              "      <td>Episode 1</td>\n",
              "      <td>Winter is Coming</td>\n",
              "      <td>catelyn stark</td>\n",
              "      <td>Do you have to?</td>\n",
              "      <td>House Stark</td>\n",
              "      <td>do you have to</td>\n",
              "      <td>4</td>\n",
              "      <td>['do', 'you', 'have', 'to']</td>\n",
              "      <td>[]</td>\n",
              "      <td>[]</td>\n",
              "      <td>NaN</td>\n",
              "      <td>{'neg': 0.0, 'neu': 0.0, 'pos': 0.0, 'compound...</td>\n",
              "      <td>0.0000</td>\n",
              "      <td>0.000000</td>\n",
              "      <td>0.000000</td>\n",
              "      <td>0.000000</td>\n",
              "      <td>0.000000</td>\n",
              "    </tr>\n",
              "    <tr>\n",
              "      <th>7</th>\n",
              "      <td>7</td>\n",
              "      <td>30</td>\n",
              "      <td>4/17/2011</td>\n",
              "      <td>Season 1</td>\n",
              "      <td>Episode 1</td>\n",
              "      <td>Winter is Coming</td>\n",
              "      <td>catelyn stark</td>\n",
              "      <td>Ned. Ten is too young to see such things.</td>\n",
              "      <td>House Stark</td>\n",
              "      <td>ned ten is too young to see such things</td>\n",
              "      <td>9</td>\n",
              "      <td>['ned', 'ten', 'is', 'too', 'young', 'to', 'se...</td>\n",
              "      <td>['ned', 'ten', 'young', 'see', 'things']</td>\n",
              "      <td>['ned', 'ten', 'young', 'see', 'thing']</td>\n",
              "      <td>ned ten young see thing</td>\n",
              "      <td>{'neg': 0.0, 'neu': 1.0, 'pos': 0.0, 'compound...</td>\n",
              "      <td>0.0000</td>\n",
              "      <td>0.000880</td>\n",
              "      <td>0.000964</td>\n",
              "      <td>0.000437</td>\n",
              "      <td>0.001015</td>\n",
              "    </tr>\n",
              "    <tr>\n",
              "      <th>8</th>\n",
              "      <td>8</td>\n",
              "      <td>32</td>\n",
              "      <td>4/17/2011</td>\n",
              "      <td>Season 1</td>\n",
              "      <td>Episode 1</td>\n",
              "      <td>Winter is Coming</td>\n",
              "      <td>robb stark</td>\n",
              "      <td>Lad, go run back and get the rest.</td>\n",
              "      <td>House Stark</td>\n",
              "      <td>lad go run back and get the rest</td>\n",
              "      <td>8</td>\n",
              "      <td>['lad', 'go', 'run', 'back', 'and', 'get', 'th...</td>\n",
              "      <td>['lad', 'go', 'run', 'back', 'get', 'rest']</td>\n",
              "      <td>['lad', 'go', 'run', 'back', 'get', 'rest']</td>\n",
              "      <td>lad go run back get rest</td>\n",
              "      <td>{'neg': 0.0, 'neu': 1.0, 'pos': 0.0, 'compound...</td>\n",
              "      <td>0.0000</td>\n",
              "      <td>0.000676</td>\n",
              "      <td>0.001488</td>\n",
              "      <td>0.000546</td>\n",
              "      <td>0.000634</td>\n",
              "    </tr>\n",
              "    <tr>\n",
              "      <th>9</th>\n",
              "      <td>9</td>\n",
              "      <td>38</td>\n",
              "      <td>4/17/2011</td>\n",
              "      <td>Season 1</td>\n",
              "      <td>Episode 1</td>\n",
              "      <td>Winter is Coming</td>\n",
              "      <td>jon snow</td>\n",
              "      <td>Don't look away.</td>\n",
              "      <td>House Stark</td>\n",
              "      <td>do not look away</td>\n",
              "      <td>4</td>\n",
              "      <td>['do', 'not', 'look', 'away']</td>\n",
              "      <td>['look', 'away']</td>\n",
              "      <td>['look', 'away']</td>\n",
              "      <td>look away</td>\n",
              "      <td>{'neg': 0.0, 'neu': 1.0, 'pos': 0.0, 'compound...</td>\n",
              "      <td>0.0000</td>\n",
              "      <td>0.001274</td>\n",
              "      <td>0.001161</td>\n",
              "      <td>0.001093</td>\n",
              "      <td>0.000000</td>\n",
              "    </tr>\n",
              "  </tbody>\n",
              "</table>\n",
              "</div>"
            ],
            "text/plain": [
              "   Unnamed: 0  Unnamed: 0.1  ... Targaryen_Word_Score Mormont_Word_Score\n",
              "0           0            15  ...             0.000546           0.001480\n",
              "1           1            16  ...             0.000000           0.000000\n",
              "2           2            18  ...             0.001639           0.000000\n",
              "3           3            21  ...             0.000546           0.001480\n",
              "4           4            22  ...             0.000000           0.000000\n",
              "5           5            23  ...             0.000000           0.000000\n",
              "6           6            26  ...             0.000000           0.000000\n",
              "7           7            30  ...             0.000437           0.001015\n",
              "8           8            32  ...             0.000546           0.000634\n",
              "9           9            38  ...             0.001093           0.000000\n",
              "\n",
              "[10 rows x 21 columns]"
            ]
          },
          "metadata": {
            "tags": []
          },
          "execution_count": 30
        }
      ]
    },
    {
      "cell_type": "code",
      "metadata": {
        "id": "ljt9BGYRnc4A",
        "colab_type": "code",
        "outputId": "057d4d81-2d75-45a6-b854-2136947150cd",
        "colab": {
          "base_uri": "https://localhost:8080/",
          "height": 217
        }
      },
      "source": [
        "#Evaluate the mean of these Word_scores\n",
        "table=pd.pivot_table(GOT1TopHouses_2,values=['Lannister_Word_Score','Stark_Word_Score','Targaryen_Word_Score','Mormont_Word_Score'],index=['House'],aggfunc=['mean'])\n",
        "table\n"
      ],
      "execution_count": 31,
      "outputs": [
        {
          "output_type": "execute_result",
          "data": {
            "text/html": [
              "<div>\n",
              "<style scoped>\n",
              "    .dataframe tbody tr th:only-of-type {\n",
              "        vertical-align: middle;\n",
              "    }\n",
              "\n",
              "    .dataframe tbody tr th {\n",
              "        vertical-align: top;\n",
              "    }\n",
              "\n",
              "    .dataframe thead tr th {\n",
              "        text-align: left;\n",
              "    }\n",
              "\n",
              "    .dataframe thead tr:last-of-type th {\n",
              "        text-align: right;\n",
              "    }\n",
              "</style>\n",
              "<table border=\"1\" class=\"dataframe\">\n",
              "  <thead>\n",
              "    <tr>\n",
              "      <th></th>\n",
              "      <th colspan=\"4\" halign=\"left\">mean</th>\n",
              "    </tr>\n",
              "    <tr>\n",
              "      <th></th>\n",
              "      <th>Lannister_Word_Score</th>\n",
              "      <th>Mormont_Word_Score</th>\n",
              "      <th>Stark_Word_Score</th>\n",
              "      <th>Targaryen_Word_Score</th>\n",
              "    </tr>\n",
              "    <tr>\n",
              "      <th>House</th>\n",
              "      <th></th>\n",
              "      <th></th>\n",
              "      <th></th>\n",
              "      <th></th>\n",
              "    </tr>\n",
              "  </thead>\n",
              "  <tbody>\n",
              "    <tr>\n",
              "      <th>House Lannister</th>\n",
              "      <td>0.000740</td>\n",
              "      <td>0.000493</td>\n",
              "      <td>0.000794</td>\n",
              "      <td>0.000529</td>\n",
              "    </tr>\n",
              "    <tr>\n",
              "      <th>House Mormont</th>\n",
              "      <td>0.000447</td>\n",
              "      <td>0.001157</td>\n",
              "      <td>0.000549</td>\n",
              "      <td>0.001163</td>\n",
              "    </tr>\n",
              "    <tr>\n",
              "      <th>House Stark</th>\n",
              "      <td>0.000684</td>\n",
              "      <td>0.000501</td>\n",
              "      <td>0.001145</td>\n",
              "      <td>0.000656</td>\n",
              "    </tr>\n",
              "    <tr>\n",
              "      <th>House Targaryen</th>\n",
              "      <td>0.000532</td>\n",
              "      <td>0.000993</td>\n",
              "      <td>0.000747</td>\n",
              "      <td>0.002166</td>\n",
              "    </tr>\n",
              "  </tbody>\n",
              "</table>\n",
              "</div>"
            ],
            "text/plain": [
              "                                mean  ...                     \n",
              "                Lannister_Word_Score  ... Targaryen_Word_Score\n",
              "House                                 ...                     \n",
              "House Lannister             0.000740  ...             0.000529\n",
              "House Mormont               0.000447  ...             0.001163\n",
              "House Stark                 0.000684  ...             0.000656\n",
              "House Targaryen             0.000532  ...             0.002166\n",
              "\n",
              "[4 rows x 4 columns]"
            ]
          },
          "metadata": {
            "tags": []
          },
          "execution_count": 31
        }
      ]
    },
    {
      "cell_type": "markdown",
      "metadata": {
        "id": "4frHxJKlpHHC",
        "colab_type": "text"
      },
      "source": [
        "###House Stark and House Targaryen have the highest mean Stark_word_Score and Targaryen_word_score respectively, which is reasonable. \n",
        "###The other two houses however have the their top two scores being their own house' word score, which is not ideal."
      ]
    },
    {
      "cell_type": "markdown",
      "metadata": {
        "id": "iw-5V2Tvot7G",
        "colab_type": "text"
      },
      "source": [
        "Check to see if the distribution for the House Lannister Ranking is distinct"
      ]
    },
    {
      "cell_type": "code",
      "metadata": {
        "id": "BWlDU0_9oysy",
        "colab_type": "code",
        "outputId": "687f4db7-1074-4560-ce4d-643eec520c0a",
        "colab": {
          "base_uri": "https://localhost:8080/",
          "height": 1000
        }
      },
      "source": [
        "#Plotting distributions and using KDE as an estimation to each distribution.\n",
        "House_Lannister=GOT1TopHouses_2[GOT1TopHouses_2.House=='House Lannister']\n",
        "House_Targaryen=GOT1TopHouses_2[GOT1TopHouses_2.House=='House Targaryen']\n",
        "House_Stark=GOT1TopHouses_2[GOT1TopHouses_2.House=='House Stark']\n",
        "House_Mormont=GOT1TopHouses_2[GOT1TopHouses_2.House=='House Mormont']\n",
        "\n",
        "sns.set({'figure.figsize':(11.7,8.27)})\n",
        "sns.set_style({'figure.facecolor':'white'})\n",
        "plt.figure(0)\n",
        "plt.xlabel('Lannister_Word_Score')\n",
        "plt.ylabel('Probaility Density')\n",
        "plt.title(' Lannister_Word_Score')\n",
        "\n",
        "sns.distplot(House_Lannister[['Lannister_Word_Score']], hist=False, kde=True, label='Lannister')\n",
        "sns.distplot(House_Mormont[['Lannister_Word_Score']], hist=False, kde=True, label='Mormont')\n",
        "sns.distplot(House_Targaryen[['Lannister_Word_Score']], hist=False,kde=True,label='Targaryen')\n",
        "sns.distplot(House_Stark[['Lannister_Word_Score']], hist=False, kde=True,label='Stark')\n",
        "\n",
        "\n",
        "sns.set({'figure.figsize':(11.7,8.27)})\n",
        "sns.set_style({'figure.facecolor':'white'})\n",
        "plt.figure(1)\n",
        "plt.xlabel('Mormont_Word_Score')\n",
        "plt.ylabel('Probaility Density')\n",
        "plt.title(' Mormont_Word_Score')\n",
        "\n",
        "sns.distplot(House_Lannister[['Mormont_Word_Score']], hist=False, kde=True, label='Lannister')\n",
        "sns.distplot(House_Mormont[['Mormont_Word_Score']], hist=False, kde=True, label='Mormont')\n",
        "sns.distplot(House_Targaryen[['Mormont_Word_Score']], hist=False,kde=True,label='Targaryen')\n",
        "sns.distplot(House_Stark[['Mormont_Word_Score']], hist=False, kde=True,label='Stark')\n",
        "\n",
        "sns.set({'figure.figsize':(11.7,8.27)})\n",
        "sns.set_style({'figure.facecolor':'white'})\n",
        "plt.figure(2)\n",
        "plt.xlabel('Targaryen_Word_Score')\n",
        "plt.ylabel('Probaility Density')\n",
        "plt.title('Targaryen_Word_Score')\n",
        "\n",
        "sns.distplot(House_Lannister[['Targaryen_Word_Score']], hist=False, kde=True, label='Lannister')\n",
        "sns.distplot(House_Mormont[['Targaryen_Word_Score']], hist=False, kde=True, label='Mormont')\n",
        "sns.distplot(House_Targaryen[['Targaryen_Word_Score']], hist=False,kde=True,label='Targaryen')\n",
        "sns.distplot(House_Stark[['Targaryen_Word_Score']], hist=False, kde=True,label='Stark')\n",
        "\n",
        "\n",
        "sns.set({'figure.figsize':(11.7,8.27)})\n",
        "sns.set_style({'figure.facecolor':'white'})\n",
        "plt.figure(3)\n",
        "plt.xlabel('Stark_Word_Score')\n",
        "plt.ylabel('Probaility Density')\n",
        "plt.title(' Stark_Word_Score')\n",
        "\n",
        "sns.distplot(House_Lannister[['Stark_Word_Score']], hist=False, kde=True, label='Lannister')\n",
        "sns.distplot(House_Mormont[['Stark_Word_Score']], hist=False, kde=True, label='Mormont')\n",
        "sns.distplot(House_Targaryen[['Stark_Word_Score']], hist=False,kde=True,label='Targaryen')\n",
        "sns.distplot(House_Stark[['Stark_Word_Score']], hist=False, kde=True,label='Stark')\n"
      ],
      "execution_count": 32,
      "outputs": [
        {
          "output_type": "execute_result",
          "data": {
            "text/plain": [
              "<matplotlib.axes._subplots.AxesSubplot at 0x7f133f7722b0>"
            ]
          },
          "metadata": {
            "tags": []
          },
          "execution_count": 32
        },
        {
          "output_type": "display_data",
          "data": {
            "image/png": "[encoded data removed]",
            "text/plain": [
              "<Figure size 842.4x595.44 with 1 Axes>"
            ]
          },
          "metadata": {
            "tags": []
          }
        },
        {
          "output_type": "display_data",
          "data": {
            "image/png": "[encoded data removed]",
            "text/plain": [
              "<Figure size 842.4x595.44 with 1 Axes>"
            ]
          },
          "metadata": {
            "tags": []
          }
        },
        {
          "output_type": "display_data",
          "data": {
            "image/png": "[encoded data removed]",
            "text/plain": [
              "<Figure size 842.4x595.44 with 1 Axes>"
            ]
          },
          "metadata": {
            "tags": []
          }
        },
        {
          "output_type": "display_data",
          "data": {
            "image/png": "[encoded data removed]",
            "text/plain": [
              "<Figure size 842.4x595.44 with 1 Axes>"
            ]
          },
          "metadata": {
            "tags": []
          }
        }
      ]
    },
    {
      "cell_type": "markdown",
      "metadata": {
        "id": "m-dV0uULFkub",
        "colab_type": "text"
      },
      "source": [
        "####We can see despite the mean value of the word score not entirely clear at distingusihing betwen the house, you can see the KDE estimation distribution skewed to the right for that particular house. For example, House Stark has a ,house_word_score distribution skewed most to the right (higher Stark_Word_score), and so on and so forth for each house and its house_word_score. This means it's likely that we can still proceed with ML to acheive a decent ML using this feature."
      ]
    },
    {
      "cell_type": "markdown",
      "metadata": {
        "id": "b8oa6LMmxaNM",
        "colab_type": "text"
      },
      "source": [
        "### We would also like to explore if there ia any difference in number of words spoken in a line for each house. Number of words spoken can be used to indicate if this person is more outspoken or no or if they are more concise or not. "
      ]
    },
    {
      "cell_type": "code",
      "metadata": {
        "id": "PUoomWFox6Qk",
        "colab_type": "code",
        "colab": {
          "base_uri": "https://localhost:8080/",
          "height": 217
        },
        "outputId": "0d193f85-f7a9-489e-d972-bee99e682249"
      },
      "source": [
        "#Evaluate the mean and count of num_words spoken per line to see if there is difference between them\n",
        "table=pd.pivot_table(GOT1TopHouses_2,values=['Num_Words'],index=['House'],aggfunc=['count','mean'])\n",
        "table"
      ],
      "execution_count": 46,
      "outputs": [
        {
          "output_type": "execute_result",
          "data": {
            "text/html": [
              "<div>\n",
              "<style scoped>\n",
              "    .dataframe tbody tr th:only-of-type {\n",
              "        vertical-align: middle;\n",
              "    }\n",
              "\n",
              "    .dataframe tbody tr th {\n",
              "        vertical-align: top;\n",
              "    }\n",
              "\n",
              "    .dataframe thead tr th {\n",
              "        text-align: left;\n",
              "    }\n",
              "\n",
              "    .dataframe thead tr:last-of-type th {\n",
              "        text-align: right;\n",
              "    }\n",
              "</style>\n",
              "<table border=\"1\" class=\"dataframe\">\n",
              "  <thead>\n",
              "    <tr>\n",
              "      <th></th>\n",
              "      <th>count</th>\n",
              "      <th>mean</th>\n",
              "    </tr>\n",
              "    <tr>\n",
              "      <th></th>\n",
              "      <th>Num_Words</th>\n",
              "      <th>Num_Words</th>\n",
              "    </tr>\n",
              "    <tr>\n",
              "      <th>House</th>\n",
              "      <th></th>\n",
              "      <th></th>\n",
              "    </tr>\n",
              "  </thead>\n",
              "  <tbody>\n",
              "    <tr>\n",
              "      <th>House Lannister</th>\n",
              "      <td>564</td>\n",
              "      <td>15.310284</td>\n",
              "    </tr>\n",
              "    <tr>\n",
              "      <th>House Mormont</th>\n",
              "      <td>117</td>\n",
              "      <td>13.478632</td>\n",
              "    </tr>\n",
              "    <tr>\n",
              "      <th>House Stark</th>\n",
              "      <td>626</td>\n",
              "      <td>8.947284</td>\n",
              "    </tr>\n",
              "    <tr>\n",
              "      <th>House Targaryen</th>\n",
              "      <td>189</td>\n",
              "      <td>9.682540</td>\n",
              "    </tr>\n",
              "  </tbody>\n",
              "</table>\n",
              "</div>"
            ],
            "text/plain": [
              "                    count       mean\n",
              "                Num_Words  Num_Words\n",
              "House                               \n",
              "House Lannister       564  15.310284\n",
              "House Mormont         117  13.478632\n",
              "House Stark           626   8.947284\n",
              "House Targaryen       189   9.682540"
            ]
          },
          "metadata": {
            "tags": []
          },
          "execution_count": 46
        }
      ]
    },
    {
      "cell_type": "code",
      "metadata": {
        "id": "4PkwoIUQyNOF",
        "colab_type": "code",
        "colab": {}
      },
      "source": [
        "#Plotting distribution of number by words."
      ],
      "execution_count": 0,
      "outputs": []
    },
    {
      "cell_type": "markdown",
      "metadata": {
        "id": "sU4qnU14SqWo",
        "colab_type": "text"
      },
      "source": [
        "#*Applying machine learning models on data set - KNN, Naive Bays, Decision Tree, and Random Forest*\n",
        "\n",
        "\n",
        "\n"
      ]
    },
    {
      "cell_type": "markdown",
      "metadata": {
        "id": "P6e8FU2k15F3",
        "colab_type": "text"
      },
      "source": [
        "In this section, we look at applying different Machine Learning approaches to the sub dateset which includes the houses with the most sentence records. We explore four different approaches and apply them on both quantitative and qualitative variables. The goal here is to determine whether we can use certain variables to predict future sentences for a particular house.  "
      ]
    },
    {
      "cell_type": "code",
      "metadata": {
        "id": "sG8P1P8YKXuO",
        "colab_type": "code",
        "colab": {}
      },
      "source": [
        "GOT1TopHouses_2=pd.read_csv('https://raw.githubusercontent.com/trong-shen/Game-of-Throne-Project/master/GOT1TopHouses.csv')"
      ],
      "execution_count": 0,
      "outputs": []
    },
    {
      "cell_type": "markdown",
      "metadata": {
        "id": "tm5Y7fkJLUc7",
        "colab_type": "text"
      },
      "source": [
        "First, we determine which houses should be included into our data set for predictive machine learning models. "
      ]
    },
    {
      "cell_type": "code",
      "metadata": {
        "id": "zvfbYOlhSpbq",
        "colab_type": "code",
        "outputId": "a8b2d0c0-958f-4ca6-fad2-6791d92b02b1",
        "colab": {
          "base_uri": "https://localhost:8080/",
          "height": 106
        }
      },
      "source": [
        "GOT1TopHouses_2['House'].value_counts()"
      ],
      "execution_count": 34,
      "outputs": [
        {
          "output_type": "execute_result",
          "data": {
            "text/plain": [
              "House Stark        626\n",
              "House Lannister    564\n",
              "House Targaryen    189\n",
              "House Mormont      117\n",
              "Name: House, dtype: int64"
            ]
          },
          "metadata": {
            "tags": []
          },
          "execution_count": 34
        }
      ]
    },
    {
      "cell_type": "code",
      "metadata": {
        "id": "EiKaw5oNXQxQ",
        "colab_type": "code",
        "colab": {}
      },
      "source": [
        "#Select a subset that only contains the top four house records in terms of records.\n",
        "house_ml_list=['House Stark','House Lannister','House Targaryen','House Mormont']\n",
        "GOT1_ML=GOT1TopHouses_2[GOT1TopHouses_2['House'].isin(house_ml_list)]"
      ],
      "execution_count": 0,
      "outputs": []
    },
    {
      "cell_type": "markdown",
      "metadata": {
        "id": "B27v0rAaLpWd",
        "colab_type": "text"
      },
      "source": [
        "**[Approach 1]** In this section, we explore KNN classification with quantitative variables in our sub data set. X=**[\"Num_Words\",\"Sentiment_Compound_Score\",\"Lannister_Word_Score\",\"Stark_Word_Score\",\"Targaryen_Word_Score\",\"Mormont_Word_Score\"]**, and y=**[\"House\"]** "
      ]
    },
    {
      "cell_type": "code",
      "metadata": {
        "id": "40f_rEFTL0Df",
        "colab_type": "code",
        "outputId": "85103ee5-3831-4d68-fe43-046cfc4c4003",
        "colab": {
          "base_uri": "https://localhost:8080/",
          "height": 520
        }
      },
      "source": [
        "GOT1_ML.info()"
      ],
      "execution_count": 36,
      "outputs": [
        {
          "output_type": "stream",
          "text": [
            "<class 'pandas.core.frame.DataFrame'>\n",
            "Int64Index: 1496 entries, 0 to 1495\n",
            "Data columns (total 21 columns):\n",
            " #   Column                      Non-Null Count  Dtype  \n",
            "---  ------                      --------------  -----  \n",
            " 0   Unnamed: 0                  1496 non-null   int64  \n",
            " 1   Unnamed: 0.1                1496 non-null   int64  \n",
            " 2   Release Date                1496 non-null   object \n",
            " 3   Season                      1496 non-null   object \n",
            " 4   Episode                     1496 non-null   object \n",
            " 5   Episode Title               1496 non-null   object \n",
            " 6   Name                        1496 non-null   object \n",
            " 7   Sentence                    1496 non-null   object \n",
            " 8   House                       1496 non-null   object \n",
            " 9   Sentences_Clean             1496 non-null   object \n",
            " 10  Num_Words                   1496 non-null   int64  \n",
            " 11  Tokenized_Sentence          1496 non-null   object \n",
            " 12  Tokenized_No_Stop           1496 non-null   object \n",
            " 13  Stemmed_Sentence            1496 non-null   object \n",
            " 14  Stemmed_Sentence_Non_Token  1438 non-null   object \n",
            " 15  Sentiment                   1496 non-null   object \n",
            " 16  Sentiment_Compound_Score    1496 non-null   float64\n",
            " 17  Lannister_Word_Score        1496 non-null   float64\n",
            " 18  Stark_Word_Score            1496 non-null   float64\n",
            " 19  Targaryen_Word_Score        1496 non-null   float64\n",
            " 20  Mormont_Word_Score          1496 non-null   float64\n",
            "dtypes: float64(5), int64(3), object(13)\n",
            "memory usage: 257.1+ KB\n"
          ],
          "name": "stdout"
        }
      ]
    },
    {
      "cell_type": "code",
      "metadata": {
        "id": "F4Lvr5nGM0Xf",
        "colab_type": "code",
        "colab": {}
      },
      "source": [
        "X=GOT1_ML[[\"Num_Words\",\"Sentiment_Compound_Score\",\"Lannister_Word_Score\",\"Stark_Word_Score\",\"Targaryen_Word_Score\",\"Mormont_Word_Score\"]]\n",
        "y=GOT1_ML[\"House\"]"
      ],
      "execution_count": 0,
      "outputs": []
    },
    {
      "cell_type": "code",
      "metadata": {
        "id": "aAPCsdD_M0OM",
        "colab_type": "code",
        "colab": {}
      },
      "source": [
        "from sklearn.model_selection import train_test_split\n",
        "from sklearn.neighbors import KNeighborsClassifier"
      ],
      "execution_count": 0,
      "outputs": []
    },
    {
      "cell_type": "code",
      "metadata": {
        "id": "pf0CpkhVRiV7",
        "colab_type": "code",
        "colab": {}
      },
      "source": [
        "X_train, X_test, y_train, y_test = train_test_split(X,y,test_size=0.2,random_state=42)\n",
        "knn=KNeighborsClassifier(n_neighbors=5)\n",
        "knn.fit(X_train,y_train)\n",
        "y_hat=knn.predict(X_test)"
      ],
      "execution_count": 0,
      "outputs": []
    },
    {
      "cell_type": "code",
      "metadata": {
        "id": "G0Cu1w2NR8mP",
        "colab_type": "code",
        "outputId": "b316677d-22c6-4a03-b8cc-e1c330a8f8e7",
        "colab": {
          "base_uri": "https://localhost:8080/",
          "height": 34
        }
      },
      "source": [
        "#Calculate the accuracy score\n",
        "from sklearn.metrics import accuracy_score\n",
        "accuracy_score(y_test,y_hat)"
      ],
      "execution_count": 40,
      "outputs": [
        {
          "output_type": "execute_result",
          "data": {
            "text/plain": [
              "0.42"
            ]
          },
          "metadata": {
            "tags": []
          },
          "execution_count": 40
        }
      ]
    },
    {
      "cell_type": "markdown",
      "metadata": {
        "id": "NP-QikawSOmc",
        "colab_type": "text"
      },
      "source": [
        "**[Approach 2]**In this section, we use the bag-of-words model to represent sentence data with machine learning algorithms. Particularly, we explore three machine learning models that work well with natural language processing, which are naive bayes, decisio trees, and random forest."
      ]
    },
    {
      "cell_type": "code",
      "metadata": {
        "id": "Rd7m59AbkY9a",
        "colab_type": "code",
        "colab": {
          "base_uri": "https://localhost:8080/",
          "height": 520
        },
        "outputId": "fe949da5-28a2-4297-d14b-af90a733e026"
      },
      "source": [
        "#Before conducting training and testing set, remove NA value.\n",
        "GOT1_ML.dropna(inplace=True)\n",
        "GOT1_ML.info()"
      ],
      "execution_count": 41,
      "outputs": [
        {
          "output_type": "stream",
          "text": [
            "<class 'pandas.core.frame.DataFrame'>\n",
            "Int64Index: 1438 entries, 0 to 1495\n",
            "Data columns (total 21 columns):\n",
            " #   Column                      Non-Null Count  Dtype  \n",
            "---  ------                      --------------  -----  \n",
            " 0   Unnamed: 0                  1438 non-null   int64  \n",
            " 1   Unnamed: 0.1                1438 non-null   int64  \n",
            " 2   Release Date                1438 non-null   object \n",
            " 3   Season                      1438 non-null   object \n",
            " 4   Episode                     1438 non-null   object \n",
            " 5   Episode Title               1438 non-null   object \n",
            " 6   Name                        1438 non-null   object \n",
            " 7   Sentence                    1438 non-null   object \n",
            " 8   House                       1438 non-null   object \n",
            " 9   Sentences_Clean             1438 non-null   object \n",
            " 10  Num_Words                   1438 non-null   int64  \n",
            " 11  Tokenized_Sentence          1438 non-null   object \n",
            " 12  Tokenized_No_Stop           1438 non-null   object \n",
            " 13  Stemmed_Sentence            1438 non-null   object \n",
            " 14  Stemmed_Sentence_Non_Token  1438 non-null   object \n",
            " 15  Sentiment                   1438 non-null   object \n",
            " 16  Sentiment_Compound_Score    1438 non-null   float64\n",
            " 17  Lannister_Word_Score        1438 non-null   float64\n",
            " 18  Stark_Word_Score            1438 non-null   float64\n",
            " 19  Targaryen_Word_Score        1438 non-null   float64\n",
            " 20  Mormont_Word_Score          1438 non-null   float64\n",
            "dtypes: float64(5), int64(3), object(13)\n",
            "memory usage: 247.2+ KB\n"
          ],
          "name": "stdout"
        }
      ]
    },
    {
      "cell_type": "code",
      "metadata": {
        "id": "rWum89SfXpmc",
        "colab_type": "code",
        "colab": {}
      },
      "source": [
        "#Prepare training and testing dataset\n",
        "NewSentence=GOT1_ML[\"Stemmed_Sentence_Non_Token\"].tolist()\n",
        "#create bag od words model -> rows represent each line, each word is one column\n",
        "from sklearn.feature_extraction.text import CountVectorizer\n",
        "#Make sure only keep the top 1500 most frequent words for analysis\n",
        "cv=CountVectorizer(max_features=1500)\n",
        "#Create X and y -> X should be a large array where (# of records,#of words),y should be the \"name\" in GOT1\n",
        "X1=cv.fit_transform(NewSentence).toarray()\n",
        "y1=GOT1_ML.iloc[:,8].values\n",
        "#Make training and test sets for Naive Bays\n",
        "from sklearn.model_selection import train_test_split\n",
        "X1_train, X1_test, y1_train, y1_test = train_test_split(X1,y1,test_size=0.25,random_state=0)"
      ],
      "execution_count": 0,
      "outputs": []
    },
    {
      "cell_type": "markdown",
      "metadata": {
        "id": "K6zkdNx1yQag",
        "colab_type": "text"
      },
      "source": [
        "Model One - Naive Bayes"
      ]
    },
    {
      "cell_type": "code",
      "metadata": {
        "id": "Y5T14Ub3X5ZP",
        "colab_type": "code",
        "outputId": "bcf1d5a7-8675-4e75-c1aa-ca4909dd80a6",
        "colab": {
          "base_uri": "https://localhost:8080/",
          "height": 34
        }
      },
      "source": [
        "#Fitting Naive Bays into the training set\n",
        "from sklearn.naive_bayes import GaussianNB\n",
        "classifier1=GaussianNB()\n",
        "classifier1.fit(X1_train,y1_train)\n",
        "#Predicting the test set\n",
        "y1_pred_nb = classifier1.predict(X1_test)\n",
        "from sklearn.metrics import accuracy_score\n",
        "accuracy_score(y1_test,y1_pred_nb)"
      ],
      "execution_count": 43,
      "outputs": [
        {
          "output_type": "execute_result",
          "data": {
            "text/plain": [
              "0.4166666666666667"
            ]
          },
          "metadata": {
            "tags": []
          },
          "execution_count": 43
        }
      ]
    },
    {
      "cell_type": "markdown",
      "metadata": {
        "id": "MmaC6depydD8",
        "colab_type": "text"
      },
      "source": [
        "Model Two - Decision Tree"
      ]
    },
    {
      "cell_type": "code",
      "metadata": {
        "id": "GJISVqoOyaQR",
        "colab_type": "code",
        "outputId": "b0d14abb-8c8e-450e-ac13-aeb5acad07de",
        "colab": {
          "base_uri": "https://localhost:8080/",
          "height": 34
        }
      },
      "source": [
        "from sklearn.tree import DecisionTreeClassifier\n",
        "classifier2=DecisionTreeClassifier(criterion='entropy',random_state=0)\n",
        "classifier2.fit(X1_train,y1_train)\n",
        "y1_pred_tree = classifier2.predict(X1_test)\n",
        "from sklearn.metrics import accuracy_score\n",
        "accuracy_score(y1_test,y1_pred_tree)"
      ],
      "execution_count": 44,
      "outputs": [
        {
          "output_type": "execute_result",
          "data": {
            "text/plain": [
              "0.4583333333333333"
            ]
          },
          "metadata": {
            "tags": []
          },
          "execution_count": 44
        }
      ]
    },
    {
      "cell_type": "markdown",
      "metadata": {
        "id": "5obIq_7cyszZ",
        "colab_type": "text"
      },
      "source": [
        "Model Three - Random Forest"
      ]
    },
    {
      "cell_type": "code",
      "metadata": {
        "id": "-xdSH3jtyrtE",
        "colab_type": "code",
        "outputId": "cd625dc9-2ca8-47a0-8a7f-83b43e209d1d",
        "colab": {
          "base_uri": "https://localhost:8080/",
          "height": 34
        }
      },
      "source": [
        "from sklearn.ensemble import RandomForestClassifier\n",
        "classifier3=RandomForestClassifier(n_estimators=10,criterion='entropy',random_state=0)\n",
        "classifier3.fit(X1_train,y1_train)\n",
        "y1_pred_random = classifier3.predict(X1_test)\n",
        "from sklearn.metrics import accuracy_score\n",
        "accuracy_score(y1_test,y1_pred_random)"
      ],
      "execution_count": 45,
      "outputs": [
        {
          "output_type": "execute_result",
          "data": {
            "text/plain": [
              "0.44722222222222224"
            ]
          },
          "metadata": {
            "tags": []
          },
          "execution_count": 45
        }
      ]
    },
    {
      "cell_type": "code",
      "metadata": {
        "id": "gDpJDDTuy3Ay",
        "colab_type": "code",
        "colab": {}
      },
      "source": [
        ""
      ],
      "execution_count": 0,
      "outputs": []
    }
  ]
}