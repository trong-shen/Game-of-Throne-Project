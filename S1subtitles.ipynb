{
  "nbformat": 4,
  "nbformat_minor": 0,
  "metadata": {
    "colab": {
      "name": "S1subtitles.ipynb",
      "provenance": [],
      "collapsed_sections": []
    },
    "kernelspec": {
      "name": "python3",
      "display_name": "Python 3"
    }
  },
  "cells": [
    {
      "cell_type": "code",
      "metadata": {
        "id": "b5FAWEmlG_2Q",
        "colab_type": "code",
        "colab": {}
      },
      "source": [
        "import pandas as pd\n",
        "import datetime as dt\n",
        "import numpy as np\n",
        "import re\n",
        "\n",
        "GOTep1_2=pd.read_csv('https://raw.githubusercontent.com/trong-shen/Game-of-Throne-Project/master/subtitlesEp1.csv',delimiter=\";\")"
      ],
      "execution_count": 0,
      "outputs": []
    },
    {
      "cell_type": "code",
      "metadata": {
        "id": "GjLrcBWOB6Hc",
        "colab_type": "code",
        "colab": {}
      },
      "source": [
        "#Read the subtitle file line-by-line extract using re\n",
        "import urllib.request\n",
        "file=urllib.request.urlopen('https://raw.githubusercontent.com/trong-shen/Game-of-Throne-Project/master/subtitlesEp1.srt')\n",
        "sub=[]\n",
        "for line in file:\n",
        "  decoded_line=line.decode(\"utf-8\")\n",
        "  sub.append(decoded_line)\n",
        "re_pattern = r'[0-9]{2}:[0-9]{2}:[0-9]{2},[0-9]{3}'\n",
        "regex = re.compile(re_pattern)\n",
        "start_times = list(filter(regex.search, sub))\n",
        "Time_starts= [time.split(' ')[0] for time in start_times]\n",
        "Time_ends=[time.split(' ')[2][0:-2] for time in start_times]\n",
        "print(Time_starts)\n",
        "print(Time_ends)\n",
        "\n",
        "# Get lines\n",
        "lines =[[]]\n",
        "for sentence in sub:\n",
        "    if re.match(re_pattern, sentence):\n",
        "        lines[-1].pop()\n",
        "        lines.append([])\n",
        "    else:\n",
        "        sentence_remove=sentence.replace(\"<i>\",\"\")\n",
        "        sentence_remove=sentence_remove.replace(\"</i>\",\"\")\n",
        "        sentence_remove=sentence_remove.replace(\"\\r\\n\",\"\")\n",
        "        if not(sentence_remove==''):\n",
        "          lines[-1].append(sentence_remove)\n",
        "lines = lines[1:]      \n",
        "print(lines)\n"
      ],
      "execution_count": 0,
      "outputs": []
    },
    {
      "cell_type": "code",
      "metadata": {
        "id": "mx1zZ1VuHJtd",
        "colab_type": "code",
        "colab": {}
      },
      "source": [
        "GOTep1=pd.DataFrame(list(zip(Time_starts,Time_ends,lines)),columns=['Time_Start','Time_End', 'Text'])\n",
        "GOTep1.info()"
      ],
      "execution_count": 0,
      "outputs": []
    },
    {
      "cell_type": "code",
      "metadata": {
        "id": "frTdqqu0jHKl",
        "colab_type": "code",
        "colab": {}
      },
      "source": [
        "# Changing datetime format so it can be converted to a timedelta64 as a string (was getting error converting to timedelta without this step)\n",
        "GOTep1['Time_End'] = pd.to_datetime(GOTep1['Time_End'],format= '%H:%M:%S,%f' ).dt.time\n",
        "GOTep1['Time_Start'] = pd.to_datetime(GOTep1['Time_Start'],format= '%H:%M:%S,%f' ).dt.time"
      ],
      "execution_count": 0,
      "outputs": []
    },
    {
      "cell_type": "code",
      "metadata": {
        "colab_type": "code",
        "id": "0GxkkauYnpHB",
        "colab": {}
      },
      "source": [
        "# Converting the timeseries to a time delta in order to find the differences between time_end and time_start\n",
        "GOTep1['Time_End'] = pd.to_timedelta(GOTep1['Time_End'].astype(str))\n",
        "GOTep1['Time_Start'] = pd.to_timedelta(GOTep1['Time_Start'].astype(str))"
      ],
      "execution_count": 0,
      "outputs": []
    },
    {
      "cell_type": "code",
      "metadata": {
        "id": "BOIb4-JtNXXH",
        "colab_type": "code",
        "colab": {}
      },
      "source": [
        "# Creating a new column with differnce between time end and time start for each subtitle (length of time of each subtitle)\n",
        "GOTep1['Time_Diff_seconds'] = GOTep1['Time_End'] - GOTep1['Time_Start']\n",
        "GOTep1['Time_Diff_seconds'] = GOTep1['Time_Diff_seconds']/np.timedelta64(1,'s')\n",
        "\n",
        "GOTep1.tail(50)"
      ],
      "execution_count": 0,
      "outputs": []
    },
    {
      "cell_type": "markdown",
      "metadata": {
        "id": "RoLZ_iE45B0Z",
        "colab_type": "text"
      },
      "source": [
        "# episode 2 "
      ]
    },
    {
      "cell_type": "code",
      "metadata": {
        "id": "phvePHCy5FHI",
        "colab_type": "code",
        "colab": {}
      },
      "source": [
        "#Read the subtitle file line-by-line extract using re\n",
        "import urllib.request\n",
        "file=urllib.request.urlopen('https://raw.githubusercontent.com/trong-shen/Game-of-Throne-Project/master/GOTsubtitles/subtitlesEp2.srt')\n",
        "sub=[]\n",
        "for line in file:\n",
        "  decoded_line=line.decode(\"utf-8\")\n",
        "  sub.append(decoded_line)\n",
        "re_pattern = r'[0-9]{2}:[0-9]{2}:[0-9]{2},[0-9]{3}'\n",
        "regex = re.compile(re_pattern)\n",
        "start_times = list(filter(regex.search, sub))\n",
        "Time_starts= [time.split(' ')[0] for time in start_times]\n",
        "Time_ends=[time.split(' ')[2][0:-2] for time in start_times]\n",
        "print(Time_starts)\n",
        "print(Time_ends)\n",
        "\n",
        "# Get lines\n",
        "lines =[[]]\n",
        "for sentence in sub:\n",
        "    if re.match(re_pattern, sentence):\n",
        "        lines[-1].pop()\n",
        "        lines.append([])\n",
        "    else:\n",
        "        sentence_remove=sentence.replace(\"<i>\",\"\")\n",
        "        sentence_remove=sentence_remove.replace(\"</i>\",\"\")\n",
        "        sentence_remove=sentence_remove.replace(\"\\r\\n\",\"\")\n",
        "        if not(sentence_remove==''):\n",
        "          lines[-1].append(sentence_remove)\n",
        "lines = lines[1:] "
      ],
      "execution_count": 0,
      "outputs": []
    },
    {
      "cell_type": "code",
      "metadata": {
        "id": "gKPvi0Wn6If_",
        "colab_type": "code",
        "colab": {}
      },
      "source": [
        "GOTep2=pd.DataFrame(list(zip(Time_starts,Time_ends,lines)),columns=['Time_Start','Time_End', 'Text'])\n",
        "GOTep2.info()"
      ],
      "execution_count": 0,
      "outputs": []
    },
    {
      "cell_type": "code",
      "metadata": {
        "id": "hmT20iPA6y1D",
        "colab_type": "code",
        "colab": {}
      },
      "source": [
        "# Changing datetime format so it can be converted to a timedelta64 as a string (was getting error converting to timedelta without this step)\n",
        "GOTep2['Time_End'] = pd.to_datetime(GOTep2['Time_End'],format= '%H:%M:%S,%f' ).dt.time\n",
        "GOTep2['Time_Start'] = pd.to_datetime(GOTep2['Time_Start'],format= '%H:%M:%S,%f' ).dt.time\n"
      ],
      "execution_count": 0,
      "outputs": []
    },
    {
      "cell_type": "code",
      "metadata": {
        "id": "T2uOgBZ27i4u",
        "colab_type": "code",
        "colab": {}
      },
      "source": [
        "# Converting the timeseries to a time delta in order to find the differences between time_end and time_start\n",
        "GOTep2['Time_End'] = pd.to_timedelta(GOTep2['Time_End'].astype(str))\n",
        "GOTep2['Time_Start'] = pd.to_timedelta(GOTep2['Time_Start'].astype(str))"
      ],
      "execution_count": 0,
      "outputs": []
    },
    {
      "cell_type": "code",
      "metadata": {
        "id": "KxrbJqwQ7nGf",
        "colab_type": "code",
        "colab": {}
      },
      "source": [
        "# Creating a new column with differnce between time end and time start for each subtitle (length of time of each subtitle)\n",
        "GOTep2['Time_Diff_seconds'] = GOTep2['Time_End'] - GOTep2['Time_Start']\n",
        "GOTep2['Time_Diff_seconds'] = GOTep2['Time_Diff_seconds']/np.timedelta64(1,'s')\n",
        "\n",
        "GOTep2.tail(50)"
      ],
      "execution_count": 0,
      "outputs": []
    },
    {
      "cell_type": "markdown",
      "metadata": {
        "id": "thDFv5BH8AzF",
        "colab_type": "text"
      },
      "source": [
        "# episode 3"
      ]
    },
    {
      "cell_type": "code",
      "metadata": {
        "id": "9XF2U4Yl8FZ6",
        "colab_type": "code",
        "colab": {}
      },
      "source": [
        "#Read the subtitle file line-by-line extract using re\n",
        "import urllib.request\n",
        "file=urllib.request.urlopen('https://raw.githubusercontent.com/trong-shen/Game-of-Throne-Project/master/GOTsubtitles/subtitlesEp3.srt')\n",
        "sub=[]\n",
        "for line in file:\n",
        "  decoded_line=line.decode(\"utf-8\")\n",
        "  sub.append(decoded_line)\n",
        "re_pattern = r'[0-9]{2}:[0-9]{2}:[0-9]{2},[0-9]{3}'\n",
        "regex = re.compile(re_pattern)\n",
        "start_times = list(filter(regex.search, sub))\n",
        "Time_starts= [time.split(' ')[0] for time in start_times]\n",
        "Time_ends=[time.split(' ')[2][0:-2] for time in start_times]\n",
        "print(Time_starts)\n",
        "print(Time_ends)\n",
        "\n",
        "# Get lines\n",
        "lines =[[]]\n",
        "for sentence in sub:\n",
        "    if re.match(re_pattern, sentence):\n",
        "        lines[-1].pop()\n",
        "        lines.append([])\n",
        "    else:\n",
        "        sentence_remove=sentence.replace(\"<i>\",\"\")\n",
        "        sentence_remove=sentence_remove.replace(\"</i>\",\"\")\n",
        "        sentence_remove=sentence_remove.replace(\"\\r\\n\",\"\")\n",
        "        if not(sentence_remove==''):\n",
        "          lines[-1].append(sentence_remove)\n",
        "lines = lines[1:] "
      ],
      "execution_count": 0,
      "outputs": []
    },
    {
      "cell_type": "code",
      "metadata": {
        "id": "RR8BbU-18URQ",
        "colab_type": "code",
        "colab": {}
      },
      "source": [
        "GOTep3=pd.DataFrame(list(zip(Time_starts,Time_ends,lines)),columns=['Time_Start','Time_End', 'Text'])\n",
        "GOTep3.info()"
      ],
      "execution_count": 0,
      "outputs": []
    },
    {
      "cell_type": "code",
      "metadata": {
        "id": "RSAYEDNq8eTN",
        "colab_type": "code",
        "colab": {}
      },
      "source": [
        "# Changing datetime format so it can be converted to a timedelta64 as a string (was getting error converting to timedelta without this step)\n",
        "GOTep3['Time_End'] = pd.to_datetime(GOTep3['Time_End'],format= '%H:%M:%S,%f' ).dt.time\n",
        "GOTep3['Time_Start'] = pd.to_datetime(GOTep3['Time_Start'],format= '%H:%M:%S,%f' ).dt.time"
      ],
      "execution_count": 0,
      "outputs": []
    },
    {
      "cell_type": "code",
      "metadata": {
        "id": "9xRlATh98eI4",
        "colab_type": "code",
        "colab": {}
      },
      "source": [
        "# Converting the timeseries to a time delta in order to find the differences between time_end and time_start\n",
        "GOTep3['Time_End'] = pd.to_timedelta(GOTep3['Time_End'].astype(str))\n",
        "GOTep3['Time_Start'] = pd.to_timedelta(GOTep3['Time_Start'].astype(str))"
      ],
      "execution_count": 0,
      "outputs": []
    },
    {
      "cell_type": "code",
      "metadata": {
        "id": "lnppxjNd8ds9",
        "colab_type": "code",
        "colab": {}
      },
      "source": [
        "# Creating a new column with differnce between time end and time start for each subtitle (length of time of each subtitle)\n",
        "GOTep3['Time_Diff_seconds'] = GOTep3['Time_End'] - GOTep3['Time_Start']\n",
        "GOTep3['Time_Diff_seconds'] = GOTep3['Time_Diff_seconds']/np.timedelta64(1,'s')\n",
        "\n",
        "GOTep3.head(50)"
      ],
      "execution_count": 0,
      "outputs": []
    },
    {
      "cell_type": "markdown",
      "metadata": {
        "id": "cETSQv2M9TUD",
        "colab_type": "text"
      },
      "source": [
        "# episode 4"
      ]
    },
    {
      "cell_type": "code",
      "metadata": {
        "id": "TMDXuLXF9bdx",
        "colab_type": "code",
        "colab": {}
      },
      "source": [
        "#Read the subtitle file line-by-line extract using re\n",
        "import urllib.request\n",
        "file=urllib.request.urlopen('https://raw.githubusercontent.com/trong-shen/Game-of-Throne-Project/master/GOTsubtitles/subtitlesEp4.srt')\n",
        "sub=[]\n",
        "for line in file:\n",
        "  decoded_line=line.decode(\"utf-8\")\n",
        "  sub.append(decoded_line)\n",
        "re_pattern = r'[0-9]{2}:[0-9]{2}:[0-9]{2},[0-9]{3}'\n",
        "regex = re.compile(re_pattern)\n",
        "start_times = list(filter(regex.search, sub))\n",
        "Time_starts= [time.split(' ')[0] for time in start_times]\n",
        "Time_ends=[time.split(' ')[2][0:-2] for time in start_times]\n",
        "print(Time_starts)\n",
        "print(Time_ends)\n",
        "\n",
        "# Get lines\n",
        "lines =[[]]\n",
        "for sentence in sub:\n",
        "    if re.match(re_pattern, sentence):\n",
        "        lines[-1].pop()\n",
        "        lines.append([])\n",
        "    else:\n",
        "        sentence_remove=sentence.replace(\"<i>\",\"\")\n",
        "        sentence_remove=sentence_remove.replace(\"</i>\",\"\")\n",
        "        sentence_remove=sentence_remove.replace(\"\\r\\n\",\"\")\n",
        "        if not(sentence_remove==''):\n",
        "          lines[-1].append(sentence_remove)\n",
        "lines = lines[1:] "
      ],
      "execution_count": 0,
      "outputs": []
    },
    {
      "cell_type": "code",
      "metadata": {
        "id": "FBGIhOpc9bZk",
        "colab_type": "code",
        "colab": {}
      },
      "source": [
        "GOTep4=pd.DataFrame(list(zip(Time_starts,Time_ends,lines)),columns=['Time_Start','Time_End', 'Text'])\n",
        "GOTep4.info()"
      ],
      "execution_count": 0,
      "outputs": []
    },
    {
      "cell_type": "code",
      "metadata": {
        "id": "vxUFbfwB9bUS",
        "colab_type": "code",
        "colab": {}
      },
      "source": [
        "# Changing datetime format so it can be converted to a timedelta64 as a string (was getting error converting to timedelta without this step)\n",
        "GOTep4['Time_End'] = pd.to_datetime(GOTep4['Time_End'],format= '%H:%M:%S,%f' ).dt.time\n",
        "GOTep4['Time_Start'] = pd.to_datetime(GOTep4['Time_Start'],format= '%H:%M:%S,%f' ).dt.time"
      ],
      "execution_count": 0,
      "outputs": []
    },
    {
      "cell_type": "code",
      "metadata": {
        "id": "ySbJebKE9bP1",
        "colab_type": "code",
        "colab": {}
      },
      "source": [
        "# Converting the timeseries to a time delta in order to find the differences between time_end and time_start\n",
        "GOTep4['Time_End'] = pd.to_timedelta(GOTep4['Time_End'].astype(str))\n",
        "GOTep4['Time_Start'] = pd.to_timedelta(GOTep4['Time_Start'].astype(str))"
      ],
      "execution_count": 0,
      "outputs": []
    },
    {
      "cell_type": "code",
      "metadata": {
        "id": "FJ-2RDtD-G4h",
        "colab_type": "code",
        "colab": {}
      },
      "source": [
        "# Creating a new column with differnce between time end and time start for each subtitle (length of time of each subtitle)\n",
        "GOTep4['Time_Diff_seconds'] = GOTep4['Time_End'] - GOTep4['Time_Start']\n",
        "GOTep4['Time_Diff_seconds'] = GOTep4['Time_Diff_seconds']/np.timedelta64(1,'s')\n",
        "\n",
        "GOTep4.head(50)"
      ],
      "execution_count": 0,
      "outputs": []
    },
    {
      "cell_type": "markdown",
      "metadata": {
        "id": "p3TetO0D-SVg",
        "colab_type": "text"
      },
      "source": [
        "#episode 5"
      ]
    },
    {
      "cell_type": "code",
      "metadata": {
        "id": "b77Q6cXP-VoO",
        "colab_type": "code",
        "colab": {}
      },
      "source": [
        "#Read the subtitle file line-by-line extract using re\n",
        "import urllib.request\n",
        "file=urllib.request.urlopen('https://raw.githubusercontent.com/trong-shen/Game-of-Throne-Project/master/GOTsubtitles/subtitlesEp5.srt')\n",
        "sub=[]\n",
        "for line in file:\n",
        "  decoded_line=line.decode(\"utf-8\")\n",
        "  sub.append(decoded_line)\n",
        "re_pattern = r'[0-9]{2}:[0-9]{2}:[0-9]{2},[0-9]{3}'\n",
        "regex = re.compile(re_pattern)\n",
        "start_times = list(filter(regex.search, sub))\n",
        "Time_starts= [time.split(' ')[0] for time in start_times]\n",
        "Time_ends=[time.split(' ')[2][0:-2] for time in start_times]\n",
        "print(Time_starts)\n",
        "print(Time_ends)\n",
        "\n",
        "# Get lines\n",
        "lines =[[]]\n",
        "for sentence in sub:\n",
        "    if re.match(re_pattern, sentence):\n",
        "        lines[-1].pop()\n",
        "        lines.append([])\n",
        "    else:\n",
        "        sentence_remove=sentence.replace(\"<i>\",\"\")\n",
        "        sentence_remove=sentence_remove.replace(\"</i>\",\"\")\n",
        "        sentence_remove=sentence_remove.replace(\"\\r\\n\",\"\")\n",
        "        if not(sentence_remove==''):\n",
        "          lines[-1].append(sentence_remove)\n",
        "lines = lines[1:] "
      ],
      "execution_count": 0,
      "outputs": []
    },
    {
      "cell_type": "code",
      "metadata": {
        "id": "WLS9OIVN-Viz",
        "colab_type": "code",
        "colab": {}
      },
      "source": [
        "GOTep5=pd.DataFrame(list(zip(Time_starts,Time_ends,lines)),columns=['Time_Start','Time_End', 'Text'])\n",
        "GOTep5.info()"
      ],
      "execution_count": 0,
      "outputs": []
    },
    {
      "cell_type": "code",
      "metadata": {
        "id": "nXy6Mth9-VeV",
        "colab_type": "code",
        "colab": {}
      },
      "source": [
        "# Changing datetime format so it can be converted to a timedelta64 as a string (was getting error converting to timedelta without this step)\n",
        "GOTep5['Time_End'] = pd.to_datetime(GOTep5['Time_End'],format= '%H:%M:%S,%f' ).dt.time\n",
        "GOTep5['Time_Start'] = pd.to_datetime(GOTep5['Time_Start'],format= '%H:%M:%S,%f' ).dt.time"
      ],
      "execution_count": 0,
      "outputs": []
    },
    {
      "cell_type": "code",
      "metadata": {
        "id": "WjlJBiZq-VZT",
        "colab_type": "code",
        "colab": {}
      },
      "source": [
        "# Converting the timeseries to a time delta in order to find the differences between time_end and time_start\n",
        "GOTep5['Time_End'] = pd.to_timedelta(GOTep5['Time_End'].astype(str))\n",
        "GOTep5['Time_Start'] = pd.to_timedelta(GOTep5['Time_Start'].astype(str))"
      ],
      "execution_count": 0,
      "outputs": []
    },
    {
      "cell_type": "code",
      "metadata": {
        "id": "aVsa4Kju-VUL",
        "colab_type": "code",
        "colab": {}
      },
      "source": [
        "# Creating a new column with differnce between time end and time start for each subtitle (length of time of each subtitle)\n",
        "GOTep5['Time_Diff_seconds'] = GOTep5['Time_End'] - GOTep5['Time_Start']\n",
        "GOTep5['Time_Diff_seconds'] = GOTep5['Time_Diff_seconds']/np.timedelta64(1,'s')\n",
        "\n",
        "GOTep5.head(50)"
      ],
      "execution_count": 0,
      "outputs": []
    },
    {
      "cell_type": "markdown",
      "metadata": {
        "id": "57aDOdFz-6g3",
        "colab_type": "text"
      },
      "source": [
        "#episode 6"
      ]
    },
    {
      "cell_type": "code",
      "metadata": {
        "id": "Q0v4l5Fq_TLx",
        "colab_type": "code",
        "colab": {}
      },
      "source": [
        "#Read the subtitle file line-by-line extract using re\n",
        "import urllib.request\n",
        "file=urllib.request.urlopen('https://raw.githubusercontent.com/trong-shen/Game-of-Throne-Project/master/GOTsubtitles/subtitlesEp6.srt')\n",
        "sub=[]\n",
        "for line in file:\n",
        "  decoded_line=line.decode(\"utf-8\")\n",
        "  sub.append(decoded_line)\n",
        "re_pattern = r'[0-9]{2}:[0-9]{2}:[0-9]{2},[0-9]{3}'\n",
        "regex = re.compile(re_pattern)\n",
        "start_times = list(filter(regex.search, sub))\n",
        "Time_starts= [time.split(' ')[0] for time in start_times]\n",
        "Time_ends=[time.split(' ')[2][0:-2] for time in start_times]\n",
        "print(Time_starts)\n",
        "print(Time_ends)\n",
        "\n",
        "# Get lines\n",
        "lines =[[]]\n",
        "for sentence in sub:\n",
        "    if re.match(re_pattern, sentence):\n",
        "        lines[-1].pop()\n",
        "        lines.append([])\n",
        "    else:\n",
        "        sentence_remove=sentence.replace(\"<i>\",\"\")\n",
        "        sentence_remove=sentence_remove.replace(\"</i>\",\"\")\n",
        "        sentence_remove=sentence_remove.replace(\"\\r\\n\",\"\")\n",
        "        if not(sentence_remove==''):\n",
        "          lines[-1].append(sentence_remove)\n",
        "lines = lines[1:] "
      ],
      "execution_count": 0,
      "outputs": []
    },
    {
      "cell_type": "code",
      "metadata": {
        "id": "BysjIRnK_TJY",
        "colab_type": "code",
        "colab": {}
      },
      "source": [
        "GOTep6=pd.DataFrame(list(zip(Time_starts,Time_ends,lines)),columns=['Time_Start','Time_End', 'Text'])\n",
        "GOTep6.info()"
      ],
      "execution_count": 0,
      "outputs": []
    },
    {
      "cell_type": "code",
      "metadata": {
        "id": "eS7D6ytV_TGE",
        "colab_type": "code",
        "colab": {}
      },
      "source": [
        "# Changing datetime format so it can be converted to a timedelta64 as a string (was getting error converting to timedelta without this step)\n",
        "GOTep6['Time_End'] = pd.to_datetime(GOTep6['Time_End'],format= '%H:%M:%S,%f' ).dt.time\n",
        "GOTep6['Time_Start'] = pd.to_datetime(GOTep6['Time_Start'],format= '%H:%M:%S,%f' ).dt.time"
      ],
      "execution_count": 0,
      "outputs": []
    },
    {
      "cell_type": "code",
      "metadata": {
        "id": "_QSAKpZV_TDb",
        "colab_type": "code",
        "colab": {}
      },
      "source": [
        "# Converting the timeseries to a time delta in order to find the differences between time_end and time_start\n",
        "GOTep6['Time_End'] = pd.to_timedelta(GOTep6['Time_End'].astype(str))\n",
        "GOTep6['Time_Start'] = pd.to_timedelta(GOTep6['Time_Start'].astype(str))"
      ],
      "execution_count": 0,
      "outputs": []
    },
    {
      "cell_type": "code",
      "metadata": {
        "id": "vs5DP67l_TA8",
        "colab_type": "code",
        "colab": {}
      },
      "source": [
        "# Creating a new column with differnce between time end and time start for each subtitle (length of time of each subtitle)\n",
        "GOTep6['Time_Diff_seconds'] = GOTep6['Time_End'] - GOTep6['Time_Start']\n",
        "GOTep6['Time_Diff_seconds'] = GOTep6['Time_Diff_seconds']/np.timedelta64(1,'s')\n",
        "\n",
        "GOTep6.head(50)"
      ],
      "execution_count": 0,
      "outputs": []
    },
    {
      "cell_type": "markdown",
      "metadata": {
        "id": "m3AYMtWp_zjh",
        "colab_type": "text"
      },
      "source": [
        "#episode 7"
      ]
    },
    {
      "cell_type": "code",
      "metadata": {
        "id": "aZDH6z2e_9hx",
        "colab_type": "code",
        "colab": {}
      },
      "source": [
        "#Read the subtitle file line-by-line extract using re\n",
        "import urllib.request\n",
        "file=urllib.request.urlopen('https://raw.githubusercontent.com/trong-shen/Game-of-Throne-Project/master/GOTsubtitles/subtitlesEp7.srt')\n",
        "sub=[]\n",
        "for line in file:\n",
        "  decoded_line=line.decode(\"utf-8\")\n",
        "  sub.append(decoded_line)\n",
        "re_pattern = r'[0-9]{2}:[0-9]{2}:[0-9]{2},[0-9]{3}'\n",
        "regex = re.compile(re_pattern)\n",
        "start_times = list(filter(regex.search, sub))\n",
        "Time_starts= [time.split(' ')[0] for time in start_times]\n",
        "Time_ends=[time.split(' ')[2][0:-2] for time in start_times]\n",
        "print(Time_starts)\n",
        "print(Time_ends)\n",
        "\n",
        "# Get lines\n",
        "lines =[[]]\n",
        "for sentence in sub:\n",
        "    if re.match(re_pattern, sentence):\n",
        "        lines[-1].pop()\n",
        "        lines.append([])\n",
        "    else:\n",
        "        sentence_remove=sentence.replace(\"<i>\",\"\")\n",
        "        sentence_remove=sentence_remove.replace(\"</i>\",\"\")\n",
        "        sentence_remove=sentence_remove.replace(\"\\r\\n\",\"\")\n",
        "        if not(sentence_remove==''):\n",
        "          lines[-1].append(sentence_remove)\n",
        "lines = lines[1:] "
      ],
      "execution_count": 0,
      "outputs": []
    },
    {
      "cell_type": "code",
      "metadata": {
        "id": "wVNYbbXa_9bk",
        "colab_type": "code",
        "colab": {}
      },
      "source": [
        "GOTep7=pd.DataFrame(list(zip(Time_starts,Time_ends,lines)),columns=['Time_Start','Time_End', 'Text'])\n",
        "GOTep7.info()"
      ],
      "execution_count": 0,
      "outputs": []
    },
    {
      "cell_type": "code",
      "metadata": {
        "id": "r-0P3Uii_9X4",
        "colab_type": "code",
        "colab": {}
      },
      "source": [
        "# Changing datetime format so it can be converted to a timedelta64 as a string (was getting error converting to timedelta without this step)\n",
        "GOTep7['Time_End'] = pd.to_datetime(GOTep7['Time_End'],format= '%H:%M:%S,%f' ).dt.time\n",
        "GOTep7['Time_Start'] = pd.to_datetime(GOTep7['Time_Start'],format= '%H:%M:%S,%f' ).dt.time"
      ],
      "execution_count": 0,
      "outputs": []
    },
    {
      "cell_type": "code",
      "metadata": {
        "id": "ln93Lvke_9RG",
        "colab_type": "code",
        "colab": {}
      },
      "source": [
        "# Converting the timeseries to a time delta in order to find the differences between time_end and time_start\n",
        "GOTep7['Time_End'] = pd.to_timedelta(GOTep7['Time_End'].astype(str))\n",
        "GOTep7['Time_Start'] = pd.to_timedelta(GOTep7['Time_Start'].astype(str))"
      ],
      "execution_count": 0,
      "outputs": []
    },
    {
      "cell_type": "code",
      "metadata": {
        "id": "m6lEfJuf_9N5",
        "colab_type": "code",
        "colab": {}
      },
      "source": [
        "# Creating a new column with differnce between time end and time start for each subtitle (length of time of each subtitle)\n",
        "GOTep7['Time_Diff_seconds'] = GOTep7['Time_End'] - GOTep7['Time_Start']\n",
        "GOTep7['Time_Diff_seconds'] = GOTep7['Time_Diff_seconds']/np.timedelta64(1,'s')\n",
        "\n",
        "GOTep7.head(50)"
      ],
      "execution_count": 0,
      "outputs": []
    },
    {
      "cell_type": "markdown",
      "metadata": {
        "id": "FzEds8y0Akn9",
        "colab_type": "text"
      },
      "source": [
        "#episode 8"
      ]
    },
    {
      "cell_type": "code",
      "metadata": {
        "id": "9Kb9rXKtApj1",
        "colab_type": "code",
        "colab": {}
      },
      "source": [
        "#Read the subtitle file line-by-line extract using re\n",
        "import urllib.request\n",
        "file=urllib.request.urlopen('https://raw.githubusercontent.com/trong-shen/Game-of-Throne-Project/master/GOTsubtitles/subtitlesEp8.srt')\n",
        "sub=[]\n",
        "for line in file:\n",
        "  decoded_line=line.decode(\"utf-8\")\n",
        "  sub.append(decoded_line)\n",
        "re_pattern = r'[0-9]{2}:[0-9]{2}:[0-9]{2},[0-9]{3}'\n",
        "regex = re.compile(re_pattern)\n",
        "start_times = list(filter(regex.search, sub))\n",
        "Time_starts= [time.split(' ')[0] for time in start_times]\n",
        "Time_ends=[time.split(' ')[2][0:-2] for time in start_times]\n",
        "print(Time_starts)\n",
        "print(Time_ends)\n",
        "\n",
        "# Get lines\n",
        "lines =[[]]\n",
        "for sentence in sub:\n",
        "    if re.match(re_pattern, sentence):\n",
        "        lines[-1].pop()\n",
        "        lines.append([])\n",
        "    else:\n",
        "        sentence_remove=sentence.replace(\"<i>\",\"\")\n",
        "        sentence_remove=sentence_remove.replace(\"</i>\",\"\")\n",
        "        sentence_remove=sentence_remove.replace(\"\\r\\n\",\"\")\n",
        "        if not(sentence_remove==''):\n",
        "          lines[-1].append(sentence_remove)\n",
        "lines = lines[1:] "
      ],
      "execution_count": 0,
      "outputs": []
    },
    {
      "cell_type": "code",
      "metadata": {
        "id": "GaMcAYc5Apf4",
        "colab_type": "code",
        "colab": {}
      },
      "source": [
        "GOTep8=pd.DataFrame(list(zip(Time_starts,Time_ends,lines)),columns=['Time_Start','Time_End', 'Text'])\n",
        "GOTep8.info()"
      ],
      "execution_count": 0,
      "outputs": []
    },
    {
      "cell_type": "code",
      "metadata": {
        "id": "HEPYb8knApcJ",
        "colab_type": "code",
        "colab": {}
      },
      "source": [
        "# Changing datetime format so it can be converted to a timedelta64 as a string (was getting error converting to timedelta without this step)\n",
        "GOTep8['Time_End'] = pd.to_datetime(GOTep8['Time_End'],format= '%H:%M:%S,%f' ).dt.time\n",
        "GOTep8['Time_Start'] = pd.to_datetime(GOTep8['Time_Start'],format= '%H:%M:%S,%f' ).dt.time"
      ],
      "execution_count": 0,
      "outputs": []
    },
    {
      "cell_type": "code",
      "metadata": {
        "id": "QhINpupiApYR",
        "colab_type": "code",
        "colab": {}
      },
      "source": [
        "# Converting the timeseries to a time delta in order to find the differences between time_end and time_start\n",
        "GOTep8['Time_End'] = pd.to_timedelta(GOTep8['Time_End'].astype(str))\n",
        "GOTep8['Time_Start'] = pd.to_timedelta(GOTep8['Time_Start'].astype(str))"
      ],
      "execution_count": 0,
      "outputs": []
    },
    {
      "cell_type": "code",
      "metadata": {
        "id": "tWzqDgXHApT7",
        "colab_type": "code",
        "colab": {}
      },
      "source": [
        "# Creating a new column with differnce between time end and time start for each subtitle (length of time of each subtitle)\n",
        "GOTep8['Time_Diff_seconds'] = GOTep8['Time_End'] - GOTep8['Time_Start']\n",
        "GOTep8['Time_Diff_seconds'] = GOTep8['Time_Diff_seconds']/np.timedelta64(1,'s')\n",
        "\n",
        "GOTep8.head(50)"
      ],
      "execution_count": 0,
      "outputs": []
    },
    {
      "cell_type": "markdown",
      "metadata": {
        "id": "LAlEuLvaBIZF",
        "colab_type": "text"
      },
      "source": [
        "#episode 9"
      ]
    },
    {
      "cell_type": "code",
      "metadata": {
        "id": "qh5Fw9aoBKd6",
        "colab_type": "code",
        "colab": {}
      },
      "source": [
        "#Read the subtitle file line-by-line extract using re\n",
        "import urllib.request\n",
        "file=urllib.request.urlopen('https://raw.githubusercontent.com/trong-shen/Game-of-Throne-Project/master/GOTsubtitles/subtitlesEp9.srt')\n",
        "sub=[]\n",
        "for line in file:\n",
        "  decoded_line=line.decode(\"utf-8\")\n",
        "  sub.append(decoded_line)\n",
        "re_pattern = r'[0-9]{2}:[0-9]{2}:[0-9]{2},[0-9]{3}'\n",
        "regex = re.compile(re_pattern)\n",
        "start_times = list(filter(regex.search, sub))\n",
        "Time_starts= [time.split(' ')[0] for time in start_times]\n",
        "Time_ends=[time.split(' ')[2][0:-2] for time in start_times]\n",
        "print(Time_starts)\n",
        "print(Time_ends)\n",
        "\n",
        "# Get lines\n",
        "lines =[[]]\n",
        "for sentence in sub:\n",
        "    if re.match(re_pattern, sentence):\n",
        "        lines[-1].pop()\n",
        "        lines.append([])\n",
        "    else:\n",
        "        sentence_remove=sentence.replace(\"<i>\",\"\")\n",
        "        sentence_remove=sentence_remove.replace(\"</i>\",\"\")\n",
        "        sentence_remove=sentence_remove.replace(\"\\r\\n\",\"\")\n",
        "        if not(sentence_remove==''):\n",
        "          lines[-1].append(sentence_remove)\n",
        "lines = lines[1:] "
      ],
      "execution_count": 0,
      "outputs": []
    },
    {
      "cell_type": "code",
      "metadata": {
        "id": "nr307V7mBKas",
        "colab_type": "code",
        "colab": {}
      },
      "source": [
        "GOTep9=pd.DataFrame(list(zip(Time_starts,Time_ends,lines)),columns=['Time_Start','Time_End', 'Text'])\n",
        "GOTep9.info()"
      ],
      "execution_count": 0,
      "outputs": []
    },
    {
      "cell_type": "code",
      "metadata": {
        "id": "VSF2mrt0BKXM",
        "colab_type": "code",
        "colab": {}
      },
      "source": [
        "# Changing datetime format so it can be converted to a timedelta64 as a string (was getting error converting to timedelta without this step)\n",
        "GOTep9['Time_End'] = pd.to_datetime(GOTep9['Time_End'],format= '%H:%M:%S,%f' ).dt.time\n",
        "GOTep9['Time_Start'] = pd.to_datetime(GOTep9['Time_Start'],format= '%H:%M:%S,%f' ).dt.time"
      ],
      "execution_count": 0,
      "outputs": []
    },
    {
      "cell_type": "code",
      "metadata": {
        "id": "6_xUU3kBBKTT",
        "colab_type": "code",
        "colab": {}
      },
      "source": [
        "# Converting the timeseries to a time delta in order to find the differences between time_end and time_start\n",
        "GOTep9['Time_End'] = pd.to_timedelta(GOTep9['Time_End'].astype(str))\n",
        "GOTep9['Time_Start'] = pd.to_timedelta(GOTep9['Time_Start'].astype(str))"
      ],
      "execution_count": 0,
      "outputs": []
    },
    {
      "cell_type": "code",
      "metadata": {
        "id": "bLqE2hi5BKQP",
        "colab_type": "code",
        "colab": {}
      },
      "source": [
        "# Creating a new column with differnce between time end and time start for each subtitle (length of time of each subtitle)\n",
        "GOTep9['Time_Diff_seconds'] = GOTep9['Time_End'] - GOTep9['Time_Start']\n",
        "GOTep9['Time_Diff_seconds'] = GOTep9['Time_Diff_seconds']/np.timedelta64(1,'s')\n",
        "\n",
        "GOTep9.head(50)"
      ],
      "execution_count": 0,
      "outputs": []
    },
    {
      "cell_type": "markdown",
      "metadata": {
        "id": "0SxqnTtABtYt",
        "colab_type": "text"
      },
      "source": [
        "#episode 10"
      ]
    },
    {
      "cell_type": "code",
      "metadata": {
        "id": "R5QBTucbBv3L",
        "colab_type": "code",
        "colab": {}
      },
      "source": [
        "#Read the subtitle file line-by-line extract using re\n",
        "import urllib.request\n",
        "file=urllib.request.urlopen('https://raw.githubusercontent.com/trong-shen/Game-of-Throne-Project/master/GOTsubtitles/subtitlesEp10.srt')\n",
        "sub=[]\n",
        "for line in file:\n",
        "  decoded_line=line.decode(\"utf-8\")\n",
        "  sub.append(decoded_line)\n",
        "re_pattern = r'[0-9]{2}:[0-9]{2}:[0-9]{2},[0-9]{3}'\n",
        "regex = re.compile(re_pattern)\n",
        "start_times = list(filter(regex.search, sub))\n",
        "Time_starts= [time.split(' ')[0] for time in start_times]\n",
        "Time_ends=[time.split(' ')[2][0:-2] for time in start_times]\n",
        "print(Time_starts)\n",
        "print(Time_ends)\n",
        "\n",
        "# Get lines\n",
        "lines =[[]]\n",
        "for sentence in sub:\n",
        "    if re.match(re_pattern, sentence):\n",
        "        lines[-1].pop()\n",
        "        lines.append([])\n",
        "    else:\n",
        "        sentence_remove=sentence.replace(\"<i>\",\"\")\n",
        "        sentence_remove=sentence_remove.replace(\"</i>\",\"\")\n",
        "        sentence_remove=sentence_remove.replace(\"\\r\\n\",\"\")\n",
        "        if not(sentence_remove==''):\n",
        "          lines[-1].append(sentence_remove)\n",
        "lines = lines[1:] "
      ],
      "execution_count": 0,
      "outputs": []
    },
    {
      "cell_type": "code",
      "metadata": {
        "id": "oPR-JqRFBv0O",
        "colab_type": "code",
        "colab": {}
      },
      "source": [
        "GOTep10=pd.DataFrame(list(zip(Time_starts,Time_ends,lines)),columns=['Time_Start','Time_End', 'Text'])\n",
        "GOTep10.info()"
      ],
      "execution_count": 0,
      "outputs": []
    },
    {
      "cell_type": "code",
      "metadata": {
        "id": "FflEn4C4BvyC",
        "colab_type": "code",
        "colab": {}
      },
      "source": [
        "# Changing datetime format so it can be converted to a timedelta64 as a string (was getting error converting to timedelta without this step)\n",
        "GOTep10['Time_End'] = pd.to_datetime(GOTep10['Time_End'],format= '%H:%M:%S,%f' ).dt.time\n",
        "GOTep10['Time_Start'] = pd.to_datetime(GOTep10['Time_Start'],format= '%H:%M:%S,%f' ).dt.time"
      ],
      "execution_count": 0,
      "outputs": []
    },
    {
      "cell_type": "code",
      "metadata": {
        "id": "8HB9pCaLBvvY",
        "colab_type": "code",
        "colab": {}
      },
      "source": [
        "# Converting the timeseries to a time delta in order to find the differences between time_end and time_start\n",
        "GOTep10['Time_End'] = pd.to_timedelta(GOTep10['Time_End'].astype(str))\n",
        "GOTep10['Time_Start'] = pd.to_timedelta(GOTep10['Time_Start'].astype(str))"
      ],
      "execution_count": 0,
      "outputs": []
    },
    {
      "cell_type": "code",
      "metadata": {
        "id": "Yy-DQB91BvsT",
        "colab_type": "code",
        "colab": {}
      },
      "source": [
        "# Creating a new column with differnce between time end and time start for each subtitle (length of time of each subtitle)\n",
        "GOTep10['Time_Diff_seconds'] = GOTep10['Time_End'] - GOTep10['Time_Start']\n",
        "GOTep10['Time_Diff_seconds'] = GOTep10['Time_Diff_seconds']/np.timedelta64(1,'s')\n",
        "\n",
        "GOTep10.head(50)"
      ],
      "execution_count": 0,
      "outputs": []
    }
  ]
}